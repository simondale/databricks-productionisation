{
 "metadata": {
  "language_info": {
   "codemirror_mode": {
    "name": "ipython",
    "version": 3
   },
   "file_extension": ".py",
   "mimetype": "text/x-python",
   "name": "python",
   "nbconvert_exporter": "python",
   "pygments_lexer": "ipython3",
   "version": "3.7.6-final"
  },
  "orig_nbformat": 2,
  "kernelspec": {
   "name": "Python 3.7.6 64-bit ('datalabs': conda)",
   "display_name": "Python 3.7.6 64-bit ('datalabs': conda)",
   "metadata": {
    "interpreter": {
     "hash": "55b860132a779b3e10f45afb6d28bd1f5cf9c17d8b03ac074bd02e9d1932e571"
    }
   }
  }
 },
 "nbformat": 4,
 "nbformat_minor": 2,
 "cells": [
  {
   "cell_type": "code",
   "execution_count": null,
   "metadata": {},
   "outputs": [],
   "source": [
    "import seaborn as sns\n",
    "import pandas as pd\n",
    "\n",
    "iris_df = sns.load_dataset('iris')"
   ]
  },
  {
   "cell_type": "code",
   "execution_count": null,
   "metadata": {},
   "outputs": [],
   "source": [
    "iris_df.head()"
   ]
  },
  {
   "cell_type": "code",
   "execution_count": null,
   "metadata": {},
   "outputs": [],
   "source": [
    "iris_df.describe()"
   ]
  },
  {
   "cell_type": "code",
   "execution_count": null,
   "metadata": {},
   "outputs": [],
   "source": [
    "sns.swarmplot(x='species', y='petal_length', data=iris_df)"
   ]
  },
  {
   "cell_type": "code",
   "execution_count": null,
   "metadata": {},
   "outputs": [],
   "source": [
    "sns.pairplot(iris_df, hue='species')"
   ]
  },
  {
   "cell_type": "code",
   "execution_count": null,
   "metadata": {
    "tags": []
   },
   "outputs": [],
   "source": [
    "from sklearn import tree\n",
    "import mlflow\n",
    "import mlflow.sklearn\n",
    "import shutil\n",
    "\n",
    "model_name = 'iris'\n",
    "\n",
    "mlflow.set_tracking_uri('databricks')\n",
    "mlflow.set_experiment('/Experiments/iris')\n",
    "\n",
    "with mlflow.start_run() as run:\n",
    "  iris_data = iris_df.loc[:, ['sepal_length', 'sepal_width', 'petal_length', 'petal_width']]\n",
    "  iris_target = iris_df.loc[:, ['species']]\n",
    "\n",
    "  sk_model = tree.DecisionTreeClassifier()\n",
    "  sk_model = sk_model.fit(iris_data, iris_target)\n",
    "  \n",
    "  mlflow.log_param('criterion', sk_model.criterion)\n",
    "  mlflow.log_param('splitter', sk_model.splitter)\n",
    "  \n",
    "  # log model\n",
    "  mlflow.sklearn.log_model(iris_df, registered_model_name=model_name, artifact_path='model')\n",
    "  mlflow.sklearn.save_model(sk_model, run.info.run_id, serialization_format=mlflow.sklearn.SERIALIZATION_FORMAT_CLOUDPICKLE)\n",
    "\n",
    "  # compare output\n",
    "  runs_df = mlflow.search_runs(run.info.experiment_id)\n",
    "\n",
    "  shutil.rmtree(run.info.run_id, ignore_errors=True)\n",
    "  shutil.rmtree('mlruns', ignore_errors=True)"
   ]
  },
  {
   "cell_type": "code",
   "execution_count": null,
   "metadata": {
    "tags": []
   },
   "outputs": [],
   "source": [
    "runs_df"
   ]
  }
 ]
}