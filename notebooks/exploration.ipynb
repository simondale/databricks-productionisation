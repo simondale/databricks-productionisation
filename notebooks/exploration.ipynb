{
 "metadata": {
  "language_info": {
   "codemirror_mode": {
    "name": "ipython",
    "version": 3
   },
   "file_extension": ".py",
   "mimetype": "text/x-python",
   "name": "python",
   "nbconvert_exporter": "python",
   "pygments_lexer": "ipython3",
   "version": "3.7.6-final"
  },
  "orig_nbformat": 2,
  "kernelspec": {
   "name": "python3",
   "display_name": "Python 3.7.6 64-bit ('venv': venv)",
   "metadata": {
    "interpreter": {
     "hash": "371c01c343e8f96308845d927a973676fd0d4963fa0fe9cc5002c221a89c6d9e"
    }
   }
  }
 },
 "nbformat": 4,
 "nbformat_minor": 2,
 "cells": [
  {
   "cell_type": "code",
   "execution_count": 1,
   "metadata": {
    "tags": []
   },
   "outputs": [],
   "source": [
    "import seaborn as sns\n",
    "import pandas as pd\n",
    "\n",
    "iris_df = sns.load_dataset('iris')"
   ]
  },
  {
   "cell_type": "code",
   "execution_count": 3,
   "metadata": {},
   "outputs": [
    {
     "output_type": "execute_result",
     "data": {
      "text/plain": [
       "   sepal_length  sepal_width  petal_length  petal_width species\n",
       "0           5.1          3.5           1.4          0.2  setosa\n",
       "1           4.9          3.0           1.4          0.2  setosa\n",
       "2           4.7          3.2           1.3          0.2  setosa\n",
       "3           4.6          3.1           1.5          0.2  setosa\n",
       "4           5.0          3.6           1.4          0.2  setosa"
      ],
      "text/html": "<div>\n<style scoped>\n    .dataframe tbody tr th:only-of-type {\n        vertical-align: middle;\n    }\n\n    .dataframe tbody tr th {\n        vertical-align: top;\n    }\n\n    .dataframe thead th {\n        text-align: right;\n    }\n</style>\n<table border=\"1\" class=\"dataframe\">\n  <thead>\n    <tr style=\"text-align: right;\">\n      <th></th>\n      <th>sepal_length</th>\n      <th>sepal_width</th>\n      <th>petal_length</th>\n      <th>petal_width</th>\n      <th>species</th>\n    </tr>\n  </thead>\n  <tbody>\n    <tr>\n      <th>0</th>\n      <td>5.1</td>\n      <td>3.5</td>\n      <td>1.4</td>\n      <td>0.2</td>\n      <td>setosa</td>\n    </tr>\n    <tr>\n      <th>1</th>\n      <td>4.9</td>\n      <td>3.0</td>\n      <td>1.4</td>\n      <td>0.2</td>\n      <td>setosa</td>\n    </tr>\n    <tr>\n      <th>2</th>\n      <td>4.7</td>\n      <td>3.2</td>\n      <td>1.3</td>\n      <td>0.2</td>\n      <td>setosa</td>\n    </tr>\n    <tr>\n      <th>3</th>\n      <td>4.6</td>\n      <td>3.1</td>\n      <td>1.5</td>\n      <td>0.2</td>\n      <td>setosa</td>\n    </tr>\n    <tr>\n      <th>4</th>\n      <td>5.0</td>\n      <td>3.6</td>\n      <td>1.4</td>\n      <td>0.2</td>\n      <td>setosa</td>\n    </tr>\n  </tbody>\n</table>\n</div>"
     },
     "metadata": {},
     "execution_count": 3
    }
   ],
   "source": [
    "iris_df.head()"
   ]
  },
  {
   "cell_type": "code",
   "execution_count": 4,
   "metadata": {},
   "outputs": [
    {
     "output_type": "display_data",
     "data": {
      "application/vnd.plotly.v1+json": {
       "config": {
        "plotlyServerURL": "https://plot.ly"
       },
       "data": [
        {
         "hovertemplate": "species=setosa<br>sepal_length=%{x}<br>sepal_width=%{y}<br>petal_width=%{z}<extra></extra>",
         "legendgroup": "setosa",
         "marker": {
          "color": "#636efa",
          "symbol": "circle"
         },
         "mode": "markers",
         "name": "setosa",
         "scene": "scene",
         "showlegend": true,
         "type": "scatter3d",
         "x": [
          5.1,
          4.9,
          4.7,
          4.6,
          5,
          5.4,
          4.6,
          5,
          4.4,
          4.9,
          5.4,
          4.8,
          4.8,
          4.3,
          5.8,
          5.7,
          5.4,
          5.1,
          5.7,
          5.1,
          5.4,
          5.1,
          4.6,
          5.1,
          4.8,
          5,
          5,
          5.2,
          5.2,
          4.7,
          4.8,
          5.4,
          5.2,
          5.5,
          4.9,
          5,
          5.5,
          4.9,
          4.4,
          5.1,
          5,
          4.5,
          4.4,
          5,
          5.1,
          4.8,
          5.1,
          4.6,
          5.3,
          5
         ],
         "y": [
          3.5,
          3,
          3.2,
          3.1,
          3.6,
          3.9,
          3.4,
          3.4,
          2.9,
          3.1,
          3.7,
          3.4,
          3,
          3,
          4,
          4.4,
          3.9,
          3.5,
          3.8,
          3.8,
          3.4,
          3.7,
          3.6,
          3.3,
          3.4,
          3,
          3.4,
          3.5,
          3.4,
          3.2,
          3.1,
          3.4,
          4.1,
          4.2,
          3.1,
          3.2,
          3.5,
          3.6,
          3,
          3.4,
          3.5,
          2.3,
          3.2,
          3.5,
          3.8,
          3,
          3.8,
          3.2,
          3.7,
          3.3
         ],
         "z": [
          0.2,
          0.2,
          0.2,
          0.2,
          0.2,
          0.4,
          0.3,
          0.2,
          0.2,
          0.1,
          0.2,
          0.2,
          0.1,
          0.1,
          0.2,
          0.4,
          0.4,
          0.3,
          0.3,
          0.3,
          0.2,
          0.4,
          0.2,
          0.5,
          0.2,
          0.2,
          0.4,
          0.2,
          0.2,
          0.2,
          0.2,
          0.4,
          0.1,
          0.2,
          0.2,
          0.2,
          0.2,
          0.1,
          0.2,
          0.2,
          0.3,
          0.3,
          0.2,
          0.6,
          0.4,
          0.3,
          0.2,
          0.2,
          0.2,
          0.2
         ]
        },
        {
         "hovertemplate": "species=versicolor<br>sepal_length=%{x}<br>sepal_width=%{y}<br>petal_width=%{z}<extra></extra>",
         "legendgroup": "versicolor",
         "marker": {
          "color": "#EF553B",
          "symbol": "circle"
         },
         "mode": "markers",
         "name": "versicolor",
         "scene": "scene",
         "showlegend": true,
         "type": "scatter3d",
         "x": [
          7,
          6.4,
          6.9,
          5.5,
          6.5,
          5.7,
          6.3,
          4.9,
          6.6,
          5.2,
          5,
          5.9,
          6,
          6.1,
          5.6,
          6.7,
          5.6,
          5.8,
          6.2,
          5.6,
          5.9,
          6.1,
          6.3,
          6.1,
          6.4,
          6.6,
          6.8,
          6.7,
          6,
          5.7,
          5.5,
          5.5,
          5.8,
          6,
          5.4,
          6,
          6.7,
          6.3,
          5.6,
          5.5,
          5.5,
          6.1,
          5.8,
          5,
          5.6,
          5.7,
          5.7,
          6.2,
          5.1,
          5.7
         ],
         "y": [
          3.2,
          3.2,
          3.1,
          2.3,
          2.8,
          2.8,
          3.3,
          2.4,
          2.9,
          2.7,
          2,
          3,
          2.2,
          2.9,
          2.9,
          3.1,
          3,
          2.7,
          2.2,
          2.5,
          3.2,
          2.8,
          2.5,
          2.8,
          2.9,
          3,
          2.8,
          3,
          2.9,
          2.6,
          2.4,
          2.4,
          2.7,
          2.7,
          3,
          3.4,
          3.1,
          2.3,
          3,
          2.5,
          2.6,
          3,
          2.6,
          2.3,
          2.7,
          3,
          2.9,
          2.9,
          2.5,
          2.8
         ],
         "z": [
          1.4,
          1.5,
          1.5,
          1.3,
          1.5,
          1.3,
          1.6,
          1,
          1.3,
          1.4,
          1,
          1.5,
          1,
          1.4,
          1.3,
          1.4,
          1.5,
          1,
          1.5,
          1.1,
          1.8,
          1.3,
          1.5,
          1.2,
          1.3,
          1.4,
          1.4,
          1.7,
          1.5,
          1,
          1.1,
          1,
          1.2,
          1.6,
          1.5,
          1.6,
          1.5,
          1.3,
          1.3,
          1.3,
          1.2,
          1.4,
          1.2,
          1,
          1.3,
          1.2,
          1.3,
          1.3,
          1.1,
          1.3
         ]
        },
        {
         "hovertemplate": "species=virginica<br>sepal_length=%{x}<br>sepal_width=%{y}<br>petal_width=%{z}<extra></extra>",
         "legendgroup": "virginica",
         "marker": {
          "color": "#00cc96",
          "symbol": "circle"
         },
         "mode": "markers",
         "name": "virginica",
         "scene": "scene",
         "showlegend": true,
         "type": "scatter3d",
         "x": [
          6.3,
          5.8,
          7.1,
          6.3,
          6.5,
          7.6,
          4.9,
          7.3,
          6.7,
          7.2,
          6.5,
          6.4,
          6.8,
          5.7,
          5.8,
          6.4,
          6.5,
          7.7,
          7.7,
          6,
          6.9,
          5.6,
          7.7,
          6.3,
          6.7,
          7.2,
          6.2,
          6.1,
          6.4,
          7.2,
          7.4,
          7.9,
          6.4,
          6.3,
          6.1,
          7.7,
          6.3,
          6.4,
          6,
          6.9,
          6.7,
          6.9,
          5.8,
          6.8,
          6.7,
          6.7,
          6.3,
          6.5,
          6.2,
          5.9
         ],
         "y": [
          3.3,
          2.7,
          3,
          2.9,
          3,
          3,
          2.5,
          2.9,
          2.5,
          3.6,
          3.2,
          2.7,
          3,
          2.5,
          2.8,
          3.2,
          3,
          3.8,
          2.6,
          2.2,
          3.2,
          2.8,
          2.8,
          2.7,
          3.3,
          3.2,
          2.8,
          3,
          2.8,
          3,
          2.8,
          3.8,
          2.8,
          2.8,
          2.6,
          3,
          3.4,
          3.1,
          3,
          3.1,
          3.1,
          3.1,
          2.7,
          3.2,
          3.3,
          3,
          2.5,
          3,
          3.4,
          3
         ],
         "z": [
          2.5,
          1.9,
          2.1,
          1.8,
          2.2,
          2.1,
          1.7,
          1.8,
          1.8,
          2.5,
          2,
          1.9,
          2.1,
          2,
          2.4,
          2.3,
          1.8,
          2.2,
          2.3,
          1.5,
          2.3,
          2,
          2,
          1.8,
          2.1,
          1.8,
          1.8,
          1.8,
          2.1,
          1.6,
          1.9,
          2,
          2.2,
          1.5,
          1.4,
          2.3,
          2.4,
          1.8,
          1.8,
          2.1,
          2.4,
          2.3,
          1.9,
          2.3,
          2.5,
          2.3,
          1.9,
          2,
          2.3,
          1.8
         ]
        }
       ],
       "layout": {
        "legend": {
         "title": {
          "text": "species"
         },
         "tracegroupgap": 0
        },
        "margin": {
         "t": 60
        },
        "scene": {
         "domain": {
          "x": [
           0,
           1
          ],
          "y": [
           0,
           1
          ]
         },
         "xaxis": {
          "title": {
           "text": "sepal_length"
          }
         },
         "yaxis": {
          "title": {
           "text": "sepal_width"
          }
         },
         "zaxis": {
          "title": {
           "text": "petal_width"
          }
         }
        },
        "template": {
         "data": {
          "bar": [
           {
            "error_x": {
             "color": "#2a3f5f"
            },
            "error_y": {
             "color": "#2a3f5f"
            },
            "marker": {
             "line": {
              "color": "#E5ECF6",
              "width": 0.5
             }
            },
            "type": "bar"
           }
          ],
          "barpolar": [
           {
            "marker": {
             "line": {
              "color": "#E5ECF6",
              "width": 0.5
             }
            },
            "type": "barpolar"
           }
          ],
          "carpet": [
           {
            "aaxis": {
             "endlinecolor": "#2a3f5f",
             "gridcolor": "white",
             "linecolor": "white",
             "minorgridcolor": "white",
             "startlinecolor": "#2a3f5f"
            },
            "baxis": {
             "endlinecolor": "#2a3f5f",
             "gridcolor": "white",
             "linecolor": "white",
             "minorgridcolor": "white",
             "startlinecolor": "#2a3f5f"
            },
            "type": "carpet"
           }
          ],
          "choropleth": [
           {
            "colorbar": {
             "outlinewidth": 0,
             "ticks": ""
            },
            "type": "choropleth"
           }
          ],
          "contour": [
           {
            "colorbar": {
             "outlinewidth": 0,
             "ticks": ""
            },
            "colorscale": [
             [
              0,
              "#0d0887"
             ],
             [
              0.1111111111111111,
              "#46039f"
             ],
             [
              0.2222222222222222,
              "#7201a8"
             ],
             [
              0.3333333333333333,
              "#9c179e"
             ],
             [
              0.4444444444444444,
              "#bd3786"
             ],
             [
              0.5555555555555556,
              "#d8576b"
             ],
             [
              0.6666666666666666,
              "#ed7953"
             ],
             [
              0.7777777777777778,
              "#fb9f3a"
             ],
             [
              0.8888888888888888,
              "#fdca26"
             ],
             [
              1,
              "#f0f921"
             ]
            ],
            "type": "contour"
           }
          ],
          "contourcarpet": [
           {
            "colorbar": {
             "outlinewidth": 0,
             "ticks": ""
            },
            "type": "contourcarpet"
           }
          ],
          "heatmap": [
           {
            "colorbar": {
             "outlinewidth": 0,
             "ticks": ""
            },
            "colorscale": [
             [
              0,
              "#0d0887"
             ],
             [
              0.1111111111111111,
              "#46039f"
             ],
             [
              0.2222222222222222,
              "#7201a8"
             ],
             [
              0.3333333333333333,
              "#9c179e"
             ],
             [
              0.4444444444444444,
              "#bd3786"
             ],
             [
              0.5555555555555556,
              "#d8576b"
             ],
             [
              0.6666666666666666,
              "#ed7953"
             ],
             [
              0.7777777777777778,
              "#fb9f3a"
             ],
             [
              0.8888888888888888,
              "#fdca26"
             ],
             [
              1,
              "#f0f921"
             ]
            ],
            "type": "heatmap"
           }
          ],
          "heatmapgl": [
           {
            "colorbar": {
             "outlinewidth": 0,
             "ticks": ""
            },
            "colorscale": [
             [
              0,
              "#0d0887"
             ],
             [
              0.1111111111111111,
              "#46039f"
             ],
             [
              0.2222222222222222,
              "#7201a8"
             ],
             [
              0.3333333333333333,
              "#9c179e"
             ],
             [
              0.4444444444444444,
              "#bd3786"
             ],
             [
              0.5555555555555556,
              "#d8576b"
             ],
             [
              0.6666666666666666,
              "#ed7953"
             ],
             [
              0.7777777777777778,
              "#fb9f3a"
             ],
             [
              0.8888888888888888,
              "#fdca26"
             ],
             [
              1,
              "#f0f921"
             ]
            ],
            "type": "heatmapgl"
           }
          ],
          "histogram": [
           {
            "marker": {
             "colorbar": {
              "outlinewidth": 0,
              "ticks": ""
             }
            },
            "type": "histogram"
           }
          ],
          "histogram2d": [
           {
            "colorbar": {
             "outlinewidth": 0,
             "ticks": ""
            },
            "colorscale": [
             [
              0,
              "#0d0887"
             ],
             [
              0.1111111111111111,
              "#46039f"
             ],
             [
              0.2222222222222222,
              "#7201a8"
             ],
             [
              0.3333333333333333,
              "#9c179e"
             ],
             [
              0.4444444444444444,
              "#bd3786"
             ],
             [
              0.5555555555555556,
              "#d8576b"
             ],
             [
              0.6666666666666666,
              "#ed7953"
             ],
             [
              0.7777777777777778,
              "#fb9f3a"
             ],
             [
              0.8888888888888888,
              "#fdca26"
             ],
             [
              1,
              "#f0f921"
             ]
            ],
            "type": "histogram2d"
           }
          ],
          "histogram2dcontour": [
           {
            "colorbar": {
             "outlinewidth": 0,
             "ticks": ""
            },
            "colorscale": [
             [
              0,
              "#0d0887"
             ],
             [
              0.1111111111111111,
              "#46039f"
             ],
             [
              0.2222222222222222,
              "#7201a8"
             ],
             [
              0.3333333333333333,
              "#9c179e"
             ],
             [
              0.4444444444444444,
              "#bd3786"
             ],
             [
              0.5555555555555556,
              "#d8576b"
             ],
             [
              0.6666666666666666,
              "#ed7953"
             ],
             [
              0.7777777777777778,
              "#fb9f3a"
             ],
             [
              0.8888888888888888,
              "#fdca26"
             ],
             [
              1,
              "#f0f921"
             ]
            ],
            "type": "histogram2dcontour"
           }
          ],
          "mesh3d": [
           {
            "colorbar": {
             "outlinewidth": 0,
             "ticks": ""
            },
            "type": "mesh3d"
           }
          ],
          "parcoords": [
           {
            "line": {
             "colorbar": {
              "outlinewidth": 0,
              "ticks": ""
             }
            },
            "type": "parcoords"
           }
          ],
          "pie": [
           {
            "automargin": true,
            "type": "pie"
           }
          ],
          "scatter": [
           {
            "marker": {
             "colorbar": {
              "outlinewidth": 0,
              "ticks": ""
             }
            },
            "type": "scatter"
           }
          ],
          "scatter3d": [
           {
            "line": {
             "colorbar": {
              "outlinewidth": 0,
              "ticks": ""
             }
            },
            "marker": {
             "colorbar": {
              "outlinewidth": 0,
              "ticks": ""
             }
            },
            "type": "scatter3d"
           }
          ],
          "scattercarpet": [
           {
            "marker": {
             "colorbar": {
              "outlinewidth": 0,
              "ticks": ""
             }
            },
            "type": "scattercarpet"
           }
          ],
          "scattergeo": [
           {
            "marker": {
             "colorbar": {
              "outlinewidth": 0,
              "ticks": ""
             }
            },
            "type": "scattergeo"
           }
          ],
          "scattergl": [
           {
            "marker": {
             "colorbar": {
              "outlinewidth": 0,
              "ticks": ""
             }
            },
            "type": "scattergl"
           }
          ],
          "scattermapbox": [
           {
            "marker": {
             "colorbar": {
              "outlinewidth": 0,
              "ticks": ""
             }
            },
            "type": "scattermapbox"
           }
          ],
          "scatterpolar": [
           {
            "marker": {
             "colorbar": {
              "outlinewidth": 0,
              "ticks": ""
             }
            },
            "type": "scatterpolar"
           }
          ],
          "scatterpolargl": [
           {
            "marker": {
             "colorbar": {
              "outlinewidth": 0,
              "ticks": ""
             }
            },
            "type": "scatterpolargl"
           }
          ],
          "scatterternary": [
           {
            "marker": {
             "colorbar": {
              "outlinewidth": 0,
              "ticks": ""
             }
            },
            "type": "scatterternary"
           }
          ],
          "surface": [
           {
            "colorbar": {
             "outlinewidth": 0,
             "ticks": ""
            },
            "colorscale": [
             [
              0,
              "#0d0887"
             ],
             [
              0.1111111111111111,
              "#46039f"
             ],
             [
              0.2222222222222222,
              "#7201a8"
             ],
             [
              0.3333333333333333,
              "#9c179e"
             ],
             [
              0.4444444444444444,
              "#bd3786"
             ],
             [
              0.5555555555555556,
              "#d8576b"
             ],
             [
              0.6666666666666666,
              "#ed7953"
             ],
             [
              0.7777777777777778,
              "#fb9f3a"
             ],
             [
              0.8888888888888888,
              "#fdca26"
             ],
             [
              1,
              "#f0f921"
             ]
            ],
            "type": "surface"
           }
          ],
          "table": [
           {
            "cells": {
             "fill": {
              "color": "#EBF0F8"
             },
             "line": {
              "color": "white"
             }
            },
            "header": {
             "fill": {
              "color": "#C8D4E3"
             },
             "line": {
              "color": "white"
             }
            },
            "type": "table"
           }
          ]
         },
         "layout": {
          "annotationdefaults": {
           "arrowcolor": "#2a3f5f",
           "arrowhead": 0,
           "arrowwidth": 1
          },
          "coloraxis": {
           "colorbar": {
            "outlinewidth": 0,
            "ticks": ""
           }
          },
          "colorscale": {
           "diverging": [
            [
             0,
             "#8e0152"
            ],
            [
             0.1,
             "#c51b7d"
            ],
            [
             0.2,
             "#de77ae"
            ],
            [
             0.3,
             "#f1b6da"
            ],
            [
             0.4,
             "#fde0ef"
            ],
            [
             0.5,
             "#f7f7f7"
            ],
            [
             0.6,
             "#e6f5d0"
            ],
            [
             0.7,
             "#b8e186"
            ],
            [
             0.8,
             "#7fbc41"
            ],
            [
             0.9,
             "#4d9221"
            ],
            [
             1,
             "#276419"
            ]
           ],
           "sequential": [
            [
             0,
             "#0d0887"
            ],
            [
             0.1111111111111111,
             "#46039f"
            ],
            [
             0.2222222222222222,
             "#7201a8"
            ],
            [
             0.3333333333333333,
             "#9c179e"
            ],
            [
             0.4444444444444444,
             "#bd3786"
            ],
            [
             0.5555555555555556,
             "#d8576b"
            ],
            [
             0.6666666666666666,
             "#ed7953"
            ],
            [
             0.7777777777777778,
             "#fb9f3a"
            ],
            [
             0.8888888888888888,
             "#fdca26"
            ],
            [
             1,
             "#f0f921"
            ]
           ],
           "sequentialminus": [
            [
             0,
             "#0d0887"
            ],
            [
             0.1111111111111111,
             "#46039f"
            ],
            [
             0.2222222222222222,
             "#7201a8"
            ],
            [
             0.3333333333333333,
             "#9c179e"
            ],
            [
             0.4444444444444444,
             "#bd3786"
            ],
            [
             0.5555555555555556,
             "#d8576b"
            ],
            [
             0.6666666666666666,
             "#ed7953"
            ],
            [
             0.7777777777777778,
             "#fb9f3a"
            ],
            [
             0.8888888888888888,
             "#fdca26"
            ],
            [
             1,
             "#f0f921"
            ]
           ]
          },
          "colorway": [
           "#636efa",
           "#EF553B",
           "#00cc96",
           "#ab63fa",
           "#FFA15A",
           "#19d3f3",
           "#FF6692",
           "#B6E880",
           "#FF97FF",
           "#FECB52"
          ],
          "font": {
           "color": "#2a3f5f"
          },
          "geo": {
           "bgcolor": "white",
           "lakecolor": "white",
           "landcolor": "#E5ECF6",
           "showlakes": true,
           "showland": true,
           "subunitcolor": "white"
          },
          "hoverlabel": {
           "align": "left"
          },
          "hovermode": "closest",
          "mapbox": {
           "style": "light"
          },
          "paper_bgcolor": "white",
          "plot_bgcolor": "#E5ECF6",
          "polar": {
           "angularaxis": {
            "gridcolor": "white",
            "linecolor": "white",
            "ticks": ""
           },
           "bgcolor": "#E5ECF6",
           "radialaxis": {
            "gridcolor": "white",
            "linecolor": "white",
            "ticks": ""
           }
          },
          "scene": {
           "xaxis": {
            "backgroundcolor": "#E5ECF6",
            "gridcolor": "white",
            "gridwidth": 2,
            "linecolor": "white",
            "showbackground": true,
            "ticks": "",
            "zerolinecolor": "white"
           },
           "yaxis": {
            "backgroundcolor": "#E5ECF6",
            "gridcolor": "white",
            "gridwidth": 2,
            "linecolor": "white",
            "showbackground": true,
            "ticks": "",
            "zerolinecolor": "white"
           },
           "zaxis": {
            "backgroundcolor": "#E5ECF6",
            "gridcolor": "white",
            "gridwidth": 2,
            "linecolor": "white",
            "showbackground": true,
            "ticks": "",
            "zerolinecolor": "white"
           }
          },
          "shapedefaults": {
           "line": {
            "color": "#2a3f5f"
           }
          },
          "ternary": {
           "aaxis": {
            "gridcolor": "white",
            "linecolor": "white",
            "ticks": ""
           },
           "baxis": {
            "gridcolor": "white",
            "linecolor": "white",
            "ticks": ""
           },
           "bgcolor": "#E5ECF6",
           "caxis": {
            "gridcolor": "white",
            "linecolor": "white",
            "ticks": ""
           }
          },
          "title": {
           "x": 0.05
          },
          "xaxis": {
           "automargin": true,
           "gridcolor": "white",
           "linecolor": "white",
           "ticks": "",
           "title": {
            "standoff": 15
           },
           "zerolinecolor": "white",
           "zerolinewidth": 2
          },
          "yaxis": {
           "automargin": true,
           "gridcolor": "white",
           "linecolor": "white",
           "ticks": "",
           "title": {
            "standoff": 15
           },
           "zerolinecolor": "white",
           "zerolinewidth": 2
          }
         }
        }
       }
      }
     },
     "metadata": {}
    }
   ],
   "source": [
    "import plotly.express as px\n",
    "fig = px.scatter_3d(iris_df, x='sepal_length', y='sepal_width', z='petal_width', color='species')\n",
    "fig.show()"
   ]
  },
  {
   "cell_type": "code",
   "execution_count": 5,
   "metadata": {
    "tags": []
   },
   "outputs": [
    {
     "output_type": "execute_result",
     "data": {
      "text/plain": [
       "       sepal_length  sepal_width  petal_length  petal_width\n",
       "count    150.000000   150.000000    150.000000   150.000000\n",
       "mean       5.843333     3.057333      3.758000     1.199333\n",
       "std        0.828066     0.435866      1.765298     0.762238\n",
       "min        4.300000     2.000000      1.000000     0.100000\n",
       "25%        5.100000     2.800000      1.600000     0.300000\n",
       "50%        5.800000     3.000000      4.350000     1.300000\n",
       "75%        6.400000     3.300000      5.100000     1.800000\n",
       "max        7.900000     4.400000      6.900000     2.500000"
      ],
      "text/html": "<div>\n<style scoped>\n    .dataframe tbody tr th:only-of-type {\n        vertical-align: middle;\n    }\n\n    .dataframe tbody tr th {\n        vertical-align: top;\n    }\n\n    .dataframe thead th {\n        text-align: right;\n    }\n</style>\n<table border=\"1\" class=\"dataframe\">\n  <thead>\n    <tr style=\"text-align: right;\">\n      <th></th>\n      <th>sepal_length</th>\n      <th>sepal_width</th>\n      <th>petal_length</th>\n      <th>petal_width</th>\n    </tr>\n  </thead>\n  <tbody>\n    <tr>\n      <th>count</th>\n      <td>150.000000</td>\n      <td>150.000000</td>\n      <td>150.000000</td>\n      <td>150.000000</td>\n    </tr>\n    <tr>\n      <th>mean</th>\n      <td>5.843333</td>\n      <td>3.057333</td>\n      <td>3.758000</td>\n      <td>1.199333</td>\n    </tr>\n    <tr>\n      <th>std</th>\n      <td>0.828066</td>\n      <td>0.435866</td>\n      <td>1.765298</td>\n      <td>0.762238</td>\n    </tr>\n    <tr>\n      <th>min</th>\n      <td>4.300000</td>\n      <td>2.000000</td>\n      <td>1.000000</td>\n      <td>0.100000</td>\n    </tr>\n    <tr>\n      <th>25%</th>\n      <td>5.100000</td>\n      <td>2.800000</td>\n      <td>1.600000</td>\n      <td>0.300000</td>\n    </tr>\n    <tr>\n      <th>50%</th>\n      <td>5.800000</td>\n      <td>3.000000</td>\n      <td>4.350000</td>\n      <td>1.300000</td>\n    </tr>\n    <tr>\n      <th>75%</th>\n      <td>6.400000</td>\n      <td>3.300000</td>\n      <td>5.100000</td>\n      <td>1.800000</td>\n    </tr>\n    <tr>\n      <th>max</th>\n      <td>7.900000</td>\n      <td>4.400000</td>\n      <td>6.900000</td>\n      <td>2.500000</td>\n    </tr>\n  </tbody>\n</table>\n</div>"
     },
     "metadata": {},
     "execution_count": 5
    }
   ],
   "source": [
    "iris_df.describe()"
   ]
  },
  {
   "cell_type": "code",
   "execution_count": 6,
   "metadata": {
    "tags": []
   },
   "outputs": [
    {
     "output_type": "execute_result",
     "data": {
      "text/plain": [
       "<AxesSubplot:xlabel='species', ylabel='petal_length'>"
      ]
     },
     "metadata": {},
     "execution_count": 6
    },
    {
     "output_type": "display_data",
     "data": {
      "text/plain": "<Figure size 432x288 with 1 Axes>",
      "image/svg+xml": "<?xml version=\"1.0\" encoding=\"utf-8\" standalone=\"no\"?>\n<!DOCTYPE svg PUBLIC \"-//W3C//DTD SVG 1.1//EN\"\n  \"http://www.w3.org/Graphics/SVG/1.1/DTD/svg11.dtd\">\n<!-- Created with matplotlib (https://matplotlib.org/) -->\n<svg height=\"262.19625pt\" version=\"1.1\" viewBox=\"0 0 376.51875 262.19625\" width=\"376.51875pt\" xmlns=\"http://www.w3.org/2000/svg\" xmlns:xlink=\"http://www.w3.org/1999/xlink\">\n <metadata>\n  <rdf:RDF xmlns:cc=\"http://creativecommons.org/ns#\" xmlns:dc=\"http://purl.org/dc/elements/1.1/\" xmlns:rdf=\"http://www.w3.org/1999/02/22-rdf-syntax-ns#\">\n   <cc:Work>\n    <dc:type rdf:resource=\"http://purl.org/dc/dcmitype/StillImage\"/>\n    <dc:date>2020-12-21T14:15:16.239098</dc:date>\n    <dc:format>image/svg+xml</dc:format>\n    <dc:creator>\n     <cc:Agent>\n      <dc:title>Matplotlib v3.3.2, https://matplotlib.org/</dc:title>\n     </cc:Agent>\n    </dc:creator>\n   </cc:Work>\n  </rdf:RDF>\n </metadata>\n <defs>\n  <style type=\"text/css\">*{stroke-linecap:butt;stroke-linejoin:round;}</style>\n </defs>\n <g id=\"figure_1\">\n  <g id=\"patch_1\">\n   <path d=\"M 0 262.19625 \nL 376.51875 262.19625 \nL 376.51875 0 \nL 0 0 \nz\n\" style=\"fill:none;\"/>\n  </g>\n  <g id=\"axes_1\">\n   <g id=\"patch_2\">\n    <path d=\"M 34.51875 224.64 \nL 369.31875 224.64 \nL 369.31875 7.2 \nL 34.51875 7.2 \nz\n\" style=\"fill:#ffffff;\"/>\n   </g>\n   <g id=\"matplotlib.axis_1\">\n    <g id=\"xtick_1\">\n     <g id=\"line2d_1\">\n      <defs>\n       <path d=\"M 0 0 \nL 0 3.5 \n\" id=\"m3b1c8717bd\" style=\"stroke:#000000;stroke-width:0.8;\"/>\n      </defs>\n      <g>\n       <use style=\"stroke:#000000;stroke-width:0.8;\" x=\"90.31875\" xlink:href=\"#m3b1c8717bd\" y=\"224.64\"/>\n      </g>\n     </g>\n     <g id=\"text_1\">\n      <!-- setosa -->\n      <g transform=\"translate(73.949219 239.238437)scale(0.1 -0.1)\">\n       <defs>\n        <path d=\"M 44.28125 53.078125 \nL 44.28125 44.578125 \nQ 40.484375 46.53125 36.375 47.5 \nQ 32.28125 48.484375 27.875 48.484375 \nQ 21.1875 48.484375 17.84375 46.4375 \nQ 14.5 44.390625 14.5 40.28125 \nQ 14.5 37.15625 16.890625 35.375 \nQ 19.28125 33.59375 26.515625 31.984375 \nL 29.59375 31.296875 \nQ 39.15625 29.25 43.1875 25.515625 \nQ 47.21875 21.78125 47.21875 15.09375 \nQ 47.21875 7.46875 41.1875 3.015625 \nQ 35.15625 -1.421875 24.609375 -1.421875 \nQ 20.21875 -1.421875 15.453125 -0.5625 \nQ 10.6875 0.296875 5.421875 2 \nL 5.421875 11.28125 \nQ 10.40625 8.6875 15.234375 7.390625 \nQ 20.0625 6.109375 24.8125 6.109375 \nQ 31.15625 6.109375 34.5625 8.28125 \nQ 37.984375 10.453125 37.984375 14.40625 \nQ 37.984375 18.0625 35.515625 20.015625 \nQ 33.0625 21.96875 24.703125 23.78125 \nL 21.578125 24.515625 \nQ 13.234375 26.265625 9.515625 29.90625 \nQ 5.8125 33.546875 5.8125 39.890625 \nQ 5.8125 47.609375 11.28125 51.796875 \nQ 16.75 56 26.8125 56 \nQ 31.78125 56 36.171875 55.265625 \nQ 40.578125 54.546875 44.28125 53.078125 \nz\n\" id=\"DejaVuSans-115\"/>\n        <path d=\"M 56.203125 29.59375 \nL 56.203125 25.203125 \nL 14.890625 25.203125 \nQ 15.484375 15.921875 20.484375 11.0625 \nQ 25.484375 6.203125 34.421875 6.203125 \nQ 39.59375 6.203125 44.453125 7.46875 \nQ 49.3125 8.734375 54.109375 11.28125 \nL 54.109375 2.78125 \nQ 49.265625 0.734375 44.1875 -0.34375 \nQ 39.109375 -1.421875 33.890625 -1.421875 \nQ 20.796875 -1.421875 13.15625 6.1875 \nQ 5.515625 13.8125 5.515625 26.8125 \nQ 5.515625 40.234375 12.765625 48.109375 \nQ 20.015625 56 32.328125 56 \nQ 43.359375 56 49.78125 48.890625 \nQ 56.203125 41.796875 56.203125 29.59375 \nz\nM 47.21875 32.234375 \nQ 47.125 39.59375 43.09375 43.984375 \nQ 39.0625 48.390625 32.421875 48.390625 \nQ 24.90625 48.390625 20.390625 44.140625 \nQ 15.875 39.890625 15.1875 32.171875 \nz\n\" id=\"DejaVuSans-101\"/>\n        <path d=\"M 18.3125 70.21875 \nL 18.3125 54.6875 \nL 36.8125 54.6875 \nL 36.8125 47.703125 \nL 18.3125 47.703125 \nL 18.3125 18.015625 \nQ 18.3125 11.328125 20.140625 9.421875 \nQ 21.96875 7.515625 27.59375 7.515625 \nL 36.8125 7.515625 \nL 36.8125 0 \nL 27.59375 0 \nQ 17.1875 0 13.234375 3.875 \nQ 9.28125 7.765625 9.28125 18.015625 \nL 9.28125 47.703125 \nL 2.6875 47.703125 \nL 2.6875 54.6875 \nL 9.28125 54.6875 \nL 9.28125 70.21875 \nz\n\" id=\"DejaVuSans-116\"/>\n        <path d=\"M 30.609375 48.390625 \nQ 23.390625 48.390625 19.1875 42.75 \nQ 14.984375 37.109375 14.984375 27.296875 \nQ 14.984375 17.484375 19.15625 11.84375 \nQ 23.34375 6.203125 30.609375 6.203125 \nQ 37.796875 6.203125 41.984375 11.859375 \nQ 46.1875 17.53125 46.1875 27.296875 \nQ 46.1875 37.015625 41.984375 42.703125 \nQ 37.796875 48.390625 30.609375 48.390625 \nz\nM 30.609375 56 \nQ 42.328125 56 49.015625 48.375 \nQ 55.71875 40.765625 55.71875 27.296875 \nQ 55.71875 13.875 49.015625 6.21875 \nQ 42.328125 -1.421875 30.609375 -1.421875 \nQ 18.84375 -1.421875 12.171875 6.21875 \nQ 5.515625 13.875 5.515625 27.296875 \nQ 5.515625 40.765625 12.171875 48.375 \nQ 18.84375 56 30.609375 56 \nz\n\" id=\"DejaVuSans-111\"/>\n        <path d=\"M 34.28125 27.484375 \nQ 23.390625 27.484375 19.1875 25 \nQ 14.984375 22.515625 14.984375 16.5 \nQ 14.984375 11.71875 18.140625 8.90625 \nQ 21.296875 6.109375 26.703125 6.109375 \nQ 34.1875 6.109375 38.703125 11.40625 \nQ 43.21875 16.703125 43.21875 25.484375 \nL 43.21875 27.484375 \nz\nM 52.203125 31.203125 \nL 52.203125 0 \nL 43.21875 0 \nL 43.21875 8.296875 \nQ 40.140625 3.328125 35.546875 0.953125 \nQ 30.953125 -1.421875 24.3125 -1.421875 \nQ 15.921875 -1.421875 10.953125 3.296875 \nQ 6 8.015625 6 15.921875 \nQ 6 25.140625 12.171875 29.828125 \nQ 18.359375 34.515625 30.609375 34.515625 \nL 43.21875 34.515625 \nL 43.21875 35.40625 \nQ 43.21875 41.609375 39.140625 45 \nQ 35.0625 48.390625 27.6875 48.390625 \nQ 23 48.390625 18.546875 47.265625 \nQ 14.109375 46.140625 10.015625 43.890625 \nL 10.015625 52.203125 \nQ 14.9375 54.109375 19.578125 55.046875 \nQ 24.21875 56 28.609375 56 \nQ 40.484375 56 46.34375 49.84375 \nQ 52.203125 43.703125 52.203125 31.203125 \nz\n\" id=\"DejaVuSans-97\"/>\n       </defs>\n       <use xlink:href=\"#DejaVuSans-115\"/>\n       <use x=\"52.099609\" xlink:href=\"#DejaVuSans-101\"/>\n       <use x=\"113.623047\" xlink:href=\"#DejaVuSans-116\"/>\n       <use x=\"152.832031\" xlink:href=\"#DejaVuSans-111\"/>\n       <use x=\"214.013672\" xlink:href=\"#DejaVuSans-115\"/>\n       <use x=\"266.113281\" xlink:href=\"#DejaVuSans-97\"/>\n      </g>\n     </g>\n    </g>\n    <g id=\"xtick_2\">\n     <g id=\"line2d_2\">\n      <g>\n       <use style=\"stroke:#000000;stroke-width:0.8;\" x=\"201.91875\" xlink:href=\"#m3b1c8717bd\" y=\"224.64\"/>\n      </g>\n     </g>\n     <g id=\"text_2\">\n      <!-- versicolor -->\n      <g transform=\"translate(177.521094 239.238437)scale(0.1 -0.1)\">\n       <defs>\n        <path d=\"M 2.984375 54.6875 \nL 12.5 54.6875 \nL 29.59375 8.796875 \nL 46.6875 54.6875 \nL 56.203125 54.6875 \nL 35.6875 0 \nL 23.484375 0 \nz\n\" id=\"DejaVuSans-118\"/>\n        <path d=\"M 41.109375 46.296875 \nQ 39.59375 47.171875 37.8125 47.578125 \nQ 36.03125 48 33.890625 48 \nQ 26.265625 48 22.1875 43.046875 \nQ 18.109375 38.09375 18.109375 28.8125 \nL 18.109375 0 \nL 9.078125 0 \nL 9.078125 54.6875 \nL 18.109375 54.6875 \nL 18.109375 46.1875 \nQ 20.953125 51.171875 25.484375 53.578125 \nQ 30.03125 56 36.53125 56 \nQ 37.453125 56 38.578125 55.875 \nQ 39.703125 55.765625 41.0625 55.515625 \nz\n\" id=\"DejaVuSans-114\"/>\n        <path d=\"M 9.421875 54.6875 \nL 18.40625 54.6875 \nL 18.40625 0 \nL 9.421875 0 \nz\nM 9.421875 75.984375 \nL 18.40625 75.984375 \nL 18.40625 64.59375 \nL 9.421875 64.59375 \nz\n\" id=\"DejaVuSans-105\"/>\n        <path d=\"M 48.78125 52.59375 \nL 48.78125 44.1875 \nQ 44.96875 46.296875 41.140625 47.34375 \nQ 37.3125 48.390625 33.40625 48.390625 \nQ 24.65625 48.390625 19.8125 42.84375 \nQ 14.984375 37.3125 14.984375 27.296875 \nQ 14.984375 17.28125 19.8125 11.734375 \nQ 24.65625 6.203125 33.40625 6.203125 \nQ 37.3125 6.203125 41.140625 7.25 \nQ 44.96875 8.296875 48.78125 10.40625 \nL 48.78125 2.09375 \nQ 45.015625 0.34375 40.984375 -0.53125 \nQ 36.96875 -1.421875 32.421875 -1.421875 \nQ 20.0625 -1.421875 12.78125 6.34375 \nQ 5.515625 14.109375 5.515625 27.296875 \nQ 5.515625 40.671875 12.859375 48.328125 \nQ 20.21875 56 33.015625 56 \nQ 37.15625 56 41.109375 55.140625 \nQ 45.0625 54.296875 48.78125 52.59375 \nz\n\" id=\"DejaVuSans-99\"/>\n        <path d=\"M 9.421875 75.984375 \nL 18.40625 75.984375 \nL 18.40625 0 \nL 9.421875 0 \nz\n\" id=\"DejaVuSans-108\"/>\n       </defs>\n       <use xlink:href=\"#DejaVuSans-118\"/>\n       <use x=\"59.179688\" xlink:href=\"#DejaVuSans-101\"/>\n       <use x=\"120.703125\" xlink:href=\"#DejaVuSans-114\"/>\n       <use x=\"161.816406\" xlink:href=\"#DejaVuSans-115\"/>\n       <use x=\"213.916016\" xlink:href=\"#DejaVuSans-105\"/>\n       <use x=\"241.699219\" xlink:href=\"#DejaVuSans-99\"/>\n       <use x=\"296.679688\" xlink:href=\"#DejaVuSans-111\"/>\n       <use x=\"357.861328\" xlink:href=\"#DejaVuSans-108\"/>\n       <use x=\"385.644531\" xlink:href=\"#DejaVuSans-111\"/>\n       <use x=\"446.826172\" xlink:href=\"#DejaVuSans-114\"/>\n      </g>\n     </g>\n    </g>\n    <g id=\"xtick_3\">\n     <g id=\"line2d_3\">\n      <g>\n       <use style=\"stroke:#000000;stroke-width:0.8;\" x=\"313.51875\" xlink:href=\"#m3b1c8717bd\" y=\"224.64\"/>\n      </g>\n     </g>\n     <g id=\"text_3\">\n      <!-- virginica -->\n      <g transform=\"translate(292.267969 239.238437)scale(0.1 -0.1)\">\n       <defs>\n        <path d=\"M 45.40625 27.984375 \nQ 45.40625 37.75 41.375 43.109375 \nQ 37.359375 48.484375 30.078125 48.484375 \nQ 22.859375 48.484375 18.828125 43.109375 \nQ 14.796875 37.75 14.796875 27.984375 \nQ 14.796875 18.265625 18.828125 12.890625 \nQ 22.859375 7.515625 30.078125 7.515625 \nQ 37.359375 7.515625 41.375 12.890625 \nQ 45.40625 18.265625 45.40625 27.984375 \nz\nM 54.390625 6.78125 \nQ 54.390625 -7.171875 48.1875 -13.984375 \nQ 42 -20.796875 29.203125 -20.796875 \nQ 24.46875 -20.796875 20.265625 -20.09375 \nQ 16.0625 -19.390625 12.109375 -17.921875 \nL 12.109375 -9.1875 \nQ 16.0625 -11.328125 19.921875 -12.34375 \nQ 23.78125 -13.375 27.78125 -13.375 \nQ 36.625 -13.375 41.015625 -8.765625 \nQ 45.40625 -4.15625 45.40625 5.171875 \nL 45.40625 9.625 \nQ 42.625 4.78125 38.28125 2.390625 \nQ 33.9375 0 27.875 0 \nQ 17.828125 0 11.671875 7.65625 \nQ 5.515625 15.328125 5.515625 27.984375 \nQ 5.515625 40.671875 11.671875 48.328125 \nQ 17.828125 56 27.875 56 \nQ 33.9375 56 38.28125 53.609375 \nQ 42.625 51.21875 45.40625 46.390625 \nL 45.40625 54.6875 \nL 54.390625 54.6875 \nz\n\" id=\"DejaVuSans-103\"/>\n        <path d=\"M 54.890625 33.015625 \nL 54.890625 0 \nL 45.90625 0 \nL 45.90625 32.71875 \nQ 45.90625 40.484375 42.875 44.328125 \nQ 39.84375 48.1875 33.796875 48.1875 \nQ 26.515625 48.1875 22.3125 43.546875 \nQ 18.109375 38.921875 18.109375 30.90625 \nL 18.109375 0 \nL 9.078125 0 \nL 9.078125 54.6875 \nL 18.109375 54.6875 \nL 18.109375 46.1875 \nQ 21.34375 51.125 25.703125 53.5625 \nQ 30.078125 56 35.796875 56 \nQ 45.21875 56 50.046875 50.171875 \nQ 54.890625 44.34375 54.890625 33.015625 \nz\n\" id=\"DejaVuSans-110\"/>\n       </defs>\n       <use xlink:href=\"#DejaVuSans-118\"/>\n       <use x=\"59.179688\" xlink:href=\"#DejaVuSans-105\"/>\n       <use x=\"86.962891\" xlink:href=\"#DejaVuSans-114\"/>\n       <use x=\"126.326172\" xlink:href=\"#DejaVuSans-103\"/>\n       <use x=\"189.802734\" xlink:href=\"#DejaVuSans-105\"/>\n       <use x=\"217.585938\" xlink:href=\"#DejaVuSans-110\"/>\n       <use x=\"280.964844\" xlink:href=\"#DejaVuSans-105\"/>\n       <use x=\"308.748047\" xlink:href=\"#DejaVuSans-99\"/>\n       <use x=\"363.728516\" xlink:href=\"#DejaVuSans-97\"/>\n      </g>\n     </g>\n    </g>\n    <g id=\"text_4\">\n     <!-- species -->\n     <g transform=\"translate(183.24375 252.916562)scale(0.1 -0.1)\">\n      <defs>\n       <path d=\"M 18.109375 8.203125 \nL 18.109375 -20.796875 \nL 9.078125 -20.796875 \nL 9.078125 54.6875 \nL 18.109375 54.6875 \nL 18.109375 46.390625 \nQ 20.953125 51.265625 25.265625 53.625 \nQ 29.59375 56 35.59375 56 \nQ 45.5625 56 51.78125 48.09375 \nQ 58.015625 40.1875 58.015625 27.296875 \nQ 58.015625 14.40625 51.78125 6.484375 \nQ 45.5625 -1.421875 35.59375 -1.421875 \nQ 29.59375 -1.421875 25.265625 0.953125 \nQ 20.953125 3.328125 18.109375 8.203125 \nz\nM 48.6875 27.296875 \nQ 48.6875 37.203125 44.609375 42.84375 \nQ 40.53125 48.484375 33.40625 48.484375 \nQ 26.265625 48.484375 22.1875 42.84375 \nQ 18.109375 37.203125 18.109375 27.296875 \nQ 18.109375 17.390625 22.1875 11.75 \nQ 26.265625 6.109375 33.40625 6.109375 \nQ 40.53125 6.109375 44.609375 11.75 \nQ 48.6875 17.390625 48.6875 27.296875 \nz\n\" id=\"DejaVuSans-112\"/>\n      </defs>\n      <use xlink:href=\"#DejaVuSans-115\"/>\n      <use x=\"52.099609\" xlink:href=\"#DejaVuSans-112\"/>\n      <use x=\"115.576172\" xlink:href=\"#DejaVuSans-101\"/>\n      <use x=\"177.099609\" xlink:href=\"#DejaVuSans-99\"/>\n      <use x=\"232.080078\" xlink:href=\"#DejaVuSans-105\"/>\n      <use x=\"259.863281\" xlink:href=\"#DejaVuSans-101\"/>\n      <use x=\"321.386719\" xlink:href=\"#DejaVuSans-115\"/>\n     </g>\n    </g>\n   </g>\n   <g id=\"matplotlib.axis_2\">\n    <g id=\"ytick_1\">\n     <g id=\"line2d_4\">\n      <defs>\n       <path d=\"M 0 0 \nL -3.5 0 \n\" id=\"m4feeaa9311\" style=\"stroke:#000000;stroke-width:0.8;\"/>\n      </defs>\n      <g>\n       <use style=\"stroke:#000000;stroke-width:0.8;\" x=\"34.51875\" xlink:href=\"#m4feeaa9311\" y=\"214.756364\"/>\n      </g>\n     </g>\n     <g id=\"text_5\">\n      <!-- 1 -->\n      <g transform=\"translate(21.15625 218.555582)scale(0.1 -0.1)\">\n       <defs>\n        <path d=\"M 12.40625 8.296875 \nL 28.515625 8.296875 \nL 28.515625 63.921875 \nL 10.984375 60.40625 \nL 10.984375 69.390625 \nL 28.421875 72.90625 \nL 38.28125 72.90625 \nL 38.28125 8.296875 \nL 54.390625 8.296875 \nL 54.390625 0 \nL 12.40625 0 \nz\n\" id=\"DejaVuSans-49\"/>\n       </defs>\n       <use xlink:href=\"#DejaVuSans-49\"/>\n      </g>\n     </g>\n    </g>\n    <g id=\"ytick_2\">\n     <g id=\"line2d_5\">\n      <g>\n       <use style=\"stroke:#000000;stroke-width:0.8;\" x=\"34.51875\" xlink:href=\"#m4feeaa9311\" y=\"181.252512\"/>\n      </g>\n     </g>\n     <g id=\"text_6\">\n      <!-- 2 -->\n      <g transform=\"translate(21.15625 185.05173)scale(0.1 -0.1)\">\n       <defs>\n        <path d=\"M 19.1875 8.296875 \nL 53.609375 8.296875 \nL 53.609375 0 \nL 7.328125 0 \nL 7.328125 8.296875 \nQ 12.9375 14.109375 22.625 23.890625 \nQ 32.328125 33.6875 34.8125 36.53125 \nQ 39.546875 41.84375 41.421875 45.53125 \nQ 43.3125 49.21875 43.3125 52.78125 \nQ 43.3125 58.59375 39.234375 62.25 \nQ 35.15625 65.921875 28.609375 65.921875 \nQ 23.96875 65.921875 18.8125 64.3125 \nQ 13.671875 62.703125 7.8125 59.421875 \nL 7.8125 69.390625 \nQ 13.765625 71.78125 18.9375 73 \nQ 24.125 74.21875 28.421875 74.21875 \nQ 39.75 74.21875 46.484375 68.546875 \nQ 53.21875 62.890625 53.21875 53.421875 \nQ 53.21875 48.921875 51.53125 44.890625 \nQ 49.859375 40.875 45.40625 35.40625 \nQ 44.1875 33.984375 37.640625 27.21875 \nQ 31.109375 20.453125 19.1875 8.296875 \nz\n\" id=\"DejaVuSans-50\"/>\n       </defs>\n       <use xlink:href=\"#DejaVuSans-50\"/>\n      </g>\n     </g>\n    </g>\n    <g id=\"ytick_3\">\n     <g id=\"line2d_6\">\n      <g>\n       <use style=\"stroke:#000000;stroke-width:0.8;\" x=\"34.51875\" xlink:href=\"#m4feeaa9311\" y=\"147.748659\"/>\n      </g>\n     </g>\n     <g id=\"text_7\">\n      <!-- 3 -->\n      <g transform=\"translate(21.15625 151.547878)scale(0.1 -0.1)\">\n       <defs>\n        <path d=\"M 40.578125 39.3125 \nQ 47.65625 37.796875 51.625 33 \nQ 55.609375 28.21875 55.609375 21.1875 \nQ 55.609375 10.40625 48.1875 4.484375 \nQ 40.765625 -1.421875 27.09375 -1.421875 \nQ 22.515625 -1.421875 17.65625 -0.515625 \nQ 12.796875 0.390625 7.625 2.203125 \nL 7.625 11.71875 \nQ 11.71875 9.328125 16.59375 8.109375 \nQ 21.484375 6.890625 26.8125 6.890625 \nQ 36.078125 6.890625 40.9375 10.546875 \nQ 45.796875 14.203125 45.796875 21.1875 \nQ 45.796875 27.640625 41.28125 31.265625 \nQ 36.765625 34.90625 28.71875 34.90625 \nL 20.21875 34.90625 \nL 20.21875 43.015625 \nL 29.109375 43.015625 \nQ 36.375 43.015625 40.234375 45.921875 \nQ 44.09375 48.828125 44.09375 54.296875 \nQ 44.09375 59.90625 40.109375 62.90625 \nQ 36.140625 65.921875 28.71875 65.921875 \nQ 24.65625 65.921875 20.015625 65.03125 \nQ 15.375 64.15625 9.8125 62.3125 \nL 9.8125 71.09375 \nQ 15.4375 72.65625 20.34375 73.4375 \nQ 25.25 74.21875 29.59375 74.21875 \nQ 40.828125 74.21875 47.359375 69.109375 \nQ 53.90625 64.015625 53.90625 55.328125 \nQ 53.90625 49.265625 50.4375 45.09375 \nQ 46.96875 40.921875 40.578125 39.3125 \nz\n\" id=\"DejaVuSans-51\"/>\n       </defs>\n       <use xlink:href=\"#DejaVuSans-51\"/>\n      </g>\n     </g>\n    </g>\n    <g id=\"ytick_4\">\n     <g id=\"line2d_7\">\n      <g>\n       <use style=\"stroke:#000000;stroke-width:0.8;\" x=\"34.51875\" xlink:href=\"#m4feeaa9311\" y=\"114.244807\"/>\n      </g>\n     </g>\n     <g id=\"text_8\">\n      <!-- 4 -->\n      <g transform=\"translate(21.15625 118.044026)scale(0.1 -0.1)\">\n       <defs>\n        <path d=\"M 37.796875 64.3125 \nL 12.890625 25.390625 \nL 37.796875 25.390625 \nz\nM 35.203125 72.90625 \nL 47.609375 72.90625 \nL 47.609375 25.390625 \nL 58.015625 25.390625 \nL 58.015625 17.1875 \nL 47.609375 17.1875 \nL 47.609375 0 \nL 37.796875 0 \nL 37.796875 17.1875 \nL 4.890625 17.1875 \nL 4.890625 26.703125 \nz\n\" id=\"DejaVuSans-52\"/>\n       </defs>\n       <use xlink:href=\"#DejaVuSans-52\"/>\n      </g>\n     </g>\n    </g>\n    <g id=\"ytick_5\">\n     <g id=\"line2d_8\">\n      <g>\n       <use style=\"stroke:#000000;stroke-width:0.8;\" x=\"34.51875\" xlink:href=\"#m4feeaa9311\" y=\"80.740955\"/>\n      </g>\n     </g>\n     <g id=\"text_9\">\n      <!-- 5 -->\n      <g transform=\"translate(21.15625 84.540174)scale(0.1 -0.1)\">\n       <defs>\n        <path d=\"M 10.796875 72.90625 \nL 49.515625 72.90625 \nL 49.515625 64.59375 \nL 19.828125 64.59375 \nL 19.828125 46.734375 \nQ 21.96875 47.46875 24.109375 47.828125 \nQ 26.265625 48.1875 28.421875 48.1875 \nQ 40.625 48.1875 47.75 41.5 \nQ 54.890625 34.8125 54.890625 23.390625 \nQ 54.890625 11.625 47.5625 5.09375 \nQ 40.234375 -1.421875 26.90625 -1.421875 \nQ 22.3125 -1.421875 17.546875 -0.640625 \nQ 12.796875 0.140625 7.71875 1.703125 \nL 7.71875 11.625 \nQ 12.109375 9.234375 16.796875 8.0625 \nQ 21.484375 6.890625 26.703125 6.890625 \nQ 35.15625 6.890625 40.078125 11.328125 \nQ 45.015625 15.765625 45.015625 23.390625 \nQ 45.015625 31 40.078125 35.4375 \nQ 35.15625 39.890625 26.703125 39.890625 \nQ 22.75 39.890625 18.8125 39.015625 \nQ 14.890625 38.140625 10.796875 36.28125 \nz\n\" id=\"DejaVuSans-53\"/>\n       </defs>\n       <use xlink:href=\"#DejaVuSans-53\"/>\n      </g>\n     </g>\n    </g>\n    <g id=\"ytick_6\">\n     <g id=\"line2d_9\">\n      <g>\n       <use style=\"stroke:#000000;stroke-width:0.8;\" x=\"34.51875\" xlink:href=\"#m4feeaa9311\" y=\"47.237103\"/>\n      </g>\n     </g>\n     <g id=\"text_10\">\n      <!-- 6 -->\n      <g transform=\"translate(21.15625 51.036322)scale(0.1 -0.1)\">\n       <defs>\n        <path d=\"M 33.015625 40.375 \nQ 26.375 40.375 22.484375 35.828125 \nQ 18.609375 31.296875 18.609375 23.390625 \nQ 18.609375 15.53125 22.484375 10.953125 \nQ 26.375 6.390625 33.015625 6.390625 \nQ 39.65625 6.390625 43.53125 10.953125 \nQ 47.40625 15.53125 47.40625 23.390625 \nQ 47.40625 31.296875 43.53125 35.828125 \nQ 39.65625 40.375 33.015625 40.375 \nz\nM 52.59375 71.296875 \nL 52.59375 62.3125 \nQ 48.875 64.0625 45.09375 64.984375 \nQ 41.3125 65.921875 37.59375 65.921875 \nQ 27.828125 65.921875 22.671875 59.328125 \nQ 17.53125 52.734375 16.796875 39.40625 \nQ 19.671875 43.65625 24.015625 45.921875 \nQ 28.375 48.1875 33.59375 48.1875 \nQ 44.578125 48.1875 50.953125 41.515625 \nQ 57.328125 34.859375 57.328125 23.390625 \nQ 57.328125 12.15625 50.6875 5.359375 \nQ 44.046875 -1.421875 33.015625 -1.421875 \nQ 20.359375 -1.421875 13.671875 8.265625 \nQ 6.984375 17.96875 6.984375 36.375 \nQ 6.984375 53.65625 15.1875 63.9375 \nQ 23.390625 74.21875 37.203125 74.21875 \nQ 40.921875 74.21875 44.703125 73.484375 \nQ 48.484375 72.75 52.59375 71.296875 \nz\n\" id=\"DejaVuSans-54\"/>\n       </defs>\n       <use xlink:href=\"#DejaVuSans-54\"/>\n      </g>\n     </g>\n    </g>\n    <g id=\"ytick_7\">\n     <g id=\"line2d_10\">\n      <g>\n       <use style=\"stroke:#000000;stroke-width:0.8;\" x=\"34.51875\" xlink:href=\"#m4feeaa9311\" y=\"13.733251\"/>\n      </g>\n     </g>\n     <g id=\"text_11\">\n      <!-- 7 -->\n      <g transform=\"translate(21.15625 17.53247)scale(0.1 -0.1)\">\n       <defs>\n        <path d=\"M 8.203125 72.90625 \nL 55.078125 72.90625 \nL 55.078125 68.703125 \nL 28.609375 0 \nL 18.3125 0 \nL 43.21875 64.59375 \nL 8.203125 64.59375 \nz\n\" id=\"DejaVuSans-55\"/>\n       </defs>\n       <use xlink:href=\"#DejaVuSans-55\"/>\n      </g>\n     </g>\n    </g>\n    <g id=\"text_12\">\n     <!-- petal_length -->\n     <g transform=\"translate(14.798438 147.021562)rotate(-90)scale(0.1 -0.1)\">\n      <defs>\n       <path d=\"M 50.984375 -16.609375 \nL 50.984375 -23.578125 \nL -0.984375 -23.578125 \nL -0.984375 -16.609375 \nz\n\" id=\"DejaVuSans-95\"/>\n       <path d=\"M 54.890625 33.015625 \nL 54.890625 0 \nL 45.90625 0 \nL 45.90625 32.71875 \nQ 45.90625 40.484375 42.875 44.328125 \nQ 39.84375 48.1875 33.796875 48.1875 \nQ 26.515625 48.1875 22.3125 43.546875 \nQ 18.109375 38.921875 18.109375 30.90625 \nL 18.109375 0 \nL 9.078125 0 \nL 9.078125 75.984375 \nL 18.109375 75.984375 \nL 18.109375 46.1875 \nQ 21.34375 51.125 25.703125 53.5625 \nQ 30.078125 56 35.796875 56 \nQ 45.21875 56 50.046875 50.171875 \nQ 54.890625 44.34375 54.890625 33.015625 \nz\n\" id=\"DejaVuSans-104\"/>\n      </defs>\n      <use xlink:href=\"#DejaVuSans-112\"/>\n      <use x=\"63.476562\" xlink:href=\"#DejaVuSans-101\"/>\n      <use x=\"125\" xlink:href=\"#DejaVuSans-116\"/>\n      <use x=\"164.208984\" xlink:href=\"#DejaVuSans-97\"/>\n      <use x=\"225.488281\" xlink:href=\"#DejaVuSans-108\"/>\n      <use x=\"253.271484\" xlink:href=\"#DejaVuSans-95\"/>\n      <use x=\"303.271484\" xlink:href=\"#DejaVuSans-108\"/>\n      <use x=\"331.054688\" xlink:href=\"#DejaVuSans-101\"/>\n      <use x=\"392.578125\" xlink:href=\"#DejaVuSans-110\"/>\n      <use x=\"455.957031\" xlink:href=\"#DejaVuSans-103\"/>\n      <use x=\"519.433594\" xlink:href=\"#DejaVuSans-116\"/>\n      <use x=\"558.642578\" xlink:href=\"#DejaVuSans-104\"/>\n     </g>\n    </g>\n   </g>\n   <g id=\"patch_3\">\n    <path d=\"M 34.51875 224.64 \nL 34.51875 7.2 \n\" style=\"fill:none;stroke:#000000;stroke-linecap:square;stroke-linejoin:miter;stroke-width:0.8;\"/>\n   </g>\n   <g id=\"patch_4\">\n    <path d=\"M 369.31875 224.64 \nL 369.31875 7.2 \n\" style=\"fill:none;stroke:#000000;stroke-linecap:square;stroke-linejoin:miter;stroke-width:0.8;\"/>\n   </g>\n   <g id=\"patch_5\">\n    <path d=\"M 34.51875 224.64 \nL 369.31875 224.64 \n\" style=\"fill:none;stroke:#000000;stroke-linecap:square;stroke-linejoin:miter;stroke-width:0.8;\"/>\n   </g>\n   <g id=\"patch_6\">\n    <path d=\"M 34.51875 7.2 \nL 369.31875 7.2 \n\" style=\"fill:none;stroke:#000000;stroke-linecap:square;stroke-linejoin:miter;stroke-width:0.8;\"/>\n   </g>\n   <g id=\"PathCollection_1\">\n    <defs>\n     <path d=\"M 0 2.5 \nC 0.663008 2.5 1.29895 2.236584 1.767767 1.767767 \nC 2.236584 1.29895 2.5 0.663008 2.5 -0 \nC 2.5 -0.663008 2.236584 -1.29895 1.767767 -1.767767 \nC 1.29895 -2.236584 0.663008 -2.5 0 -2.5 \nC -0.663008 -2.5 -1.29895 -2.236584 -1.767767 -1.767767 \nC -2.236584 -1.29895 -2.5 -0.663008 -2.5 0 \nC -2.5 0.663008 -2.236584 1.29895 -1.767767 1.767767 \nC -1.29895 2.236584 -0.663008 2.5 0 2.5 \nz\n\" id=\"C0_0_2c88b05af3\"/>\n    </defs>\n    <g clip-path=\"url(#pf4307c04a2)\">\n     <use style=\"fill:#1f77b4;\" x=\"90.31875\" xlink:href=\"#C0_0_2c88b05af3\" y=\"214.756364\"/>\n    </g>\n    <g clip-path=\"url(#pf4307c04a2)\">\n     <use style=\"fill:#1f77b4;\" x=\"88.927668\" xlink:href=\"#C0_0_2c88b05af3\" y=\"211.405978\"/>\n    </g>\n    <g clip-path=\"url(#pf4307c04a2)\">\n     <use style=\"fill:#1f77b4;\" x=\"90.31875\" xlink:href=\"#C0_0_2c88b05af3\" y=\"208.055593\"/>\n    </g>\n    <g clip-path=\"url(#pf4307c04a2)\">\n     <use style=\"fill:#1f77b4;\" x=\"95.56875\" xlink:href=\"#C0_0_2c88b05af3\" y=\"208.055593\"/>\n    </g>\n    <g clip-path=\"url(#pf4307c04a2)\">\n     <use style=\"fill:#1f77b4;\" x=\"88.927668\" xlink:href=\"#C0_0_2c88b05af3\" y=\"204.705208\"/>\n    </g>\n    <g clip-path=\"url(#pf4307c04a2)\">\n     <use style=\"fill:#1f77b4;\" x=\"94.177668\" xlink:href=\"#C0_0_2c88b05af3\" y=\"204.705208\"/>\n    </g>\n    <g clip-path=\"url(#pf4307c04a2)\">\n     <use style=\"fill:#1f77b4;\" x=\"83.677668\" xlink:href=\"#C0_0_2c88b05af3\" y=\"204.705208\"/>\n    </g>\n    <g clip-path=\"url(#pf4307c04a2)\">\n     <use style=\"fill:#1f77b4;\" x=\"99.427668\" xlink:href=\"#C0_0_2c88b05af3\" y=\"204.705208\"/>\n    </g>\n    <g clip-path=\"url(#pf4307c04a2)\">\n     <use style=\"fill:#1f77b4;\" x=\"78.427668\" xlink:href=\"#C0_0_2c88b05af3\" y=\"204.705208\"/>\n    </g>\n    <g clip-path=\"url(#pf4307c04a2)\">\n     <use style=\"fill:#1f77b4;\" x=\"104.677668\" xlink:href=\"#C0_0_2c88b05af3\" y=\"204.705208\"/>\n    </g>\n    <g clip-path=\"url(#pf4307c04a2)\">\n     <use style=\"fill:#1f77b4;\" x=\"73.177668\" xlink:href=\"#C0_0_2c88b05af3\" y=\"204.705208\"/>\n    </g>\n    <g clip-path=\"url(#pf4307c04a2)\">\n     <use style=\"fill:#1f77b4;\" x=\"90.31875\" xlink:href=\"#C0_0_2c88b05af3\" y=\"201.354823\"/>\n    </g>\n    <g clip-path=\"url(#pf4307c04a2)\">\n     <use style=\"fill:#1f77b4;\" x=\"85.06875\" xlink:href=\"#C0_0_2c88b05af3\" y=\"201.354823\"/>\n    </g>\n    <g clip-path=\"url(#pf4307c04a2)\">\n     <use style=\"fill:#1f77b4;\" x=\"95.56875\" xlink:href=\"#C0_0_2c88b05af3\" y=\"201.354823\"/>\n    </g>\n    <g clip-path=\"url(#pf4307c04a2)\">\n     <use style=\"fill:#1f77b4;\" x=\"79.81875\" xlink:href=\"#C0_0_2c88b05af3\" y=\"201.354823\"/>\n    </g>\n    <g clip-path=\"url(#pf4307c04a2)\">\n     <use style=\"fill:#1f77b4;\" x=\"100.81875\" xlink:href=\"#C0_0_2c88b05af3\" y=\"201.354823\"/>\n    </g>\n    <g clip-path=\"url(#pf4307c04a2)\">\n     <use style=\"fill:#1f77b4;\" x=\"74.56875\" xlink:href=\"#C0_0_2c88b05af3\" y=\"201.354823\"/>\n    </g>\n    <g clip-path=\"url(#pf4307c04a2)\">\n     <use style=\"fill:#1f77b4;\" x=\"106.06875\" xlink:href=\"#C0_0_2c88b05af3\" y=\"201.354823\"/>\n    </g>\n    <g clip-path=\"url(#pf4307c04a2)\">\n     <use style=\"fill:#1f77b4;\" x=\"69.31875\" xlink:href=\"#C0_0_2c88b05af3\" y=\"201.354823\"/>\n    </g>\n    <g clip-path=\"url(#pf4307c04a2)\">\n     <use style=\"fill:#1f77b4;\" x=\"111.31875\" xlink:href=\"#C0_0_2c88b05af3\" y=\"201.354823\"/>\n    </g>\n    <g clip-path=\"url(#pf4307c04a2)\">\n     <use style=\"fill:#1f77b4;\" x=\"64.06875\" xlink:href=\"#C0_0_2c88b05af3\" y=\"201.354823\"/>\n    </g>\n    <g clip-path=\"url(#pf4307c04a2)\">\n     <use style=\"fill:#1f77b4;\" x=\"116.56875\" xlink:href=\"#C0_0_2c88b05af3\" y=\"201.354823\"/>\n    </g>\n    <g clip-path=\"url(#pf4307c04a2)\">\n     <use style=\"fill:#1f77b4;\" x=\"58.81875\" xlink:href=\"#C0_0_2c88b05af3\" y=\"201.354823\"/>\n    </g>\n    <g clip-path=\"url(#pf4307c04a2)\">\n     <use style=\"fill:#1f77b4;\" x=\"121.81875\" xlink:href=\"#C0_0_2c88b05af3\" y=\"201.354823\"/>\n    </g>\n    <g clip-path=\"url(#pf4307c04a2)\">\n     <use style=\"fill:#1f77b4;\" x=\"88.927668\" xlink:href=\"#C0_0_2c88b05af3\" y=\"198.004438\"/>\n    </g>\n    <g clip-path=\"url(#pf4307c04a2)\">\n     <use style=\"fill:#1f77b4;\" x=\"94.177668\" xlink:href=\"#C0_0_2c88b05af3\" y=\"198.004438\"/>\n    </g>\n    <g clip-path=\"url(#pf4307c04a2)\">\n     <use style=\"fill:#1f77b4;\" x=\"83.677668\" xlink:href=\"#C0_0_2c88b05af3\" y=\"198.004438\"/>\n    </g>\n    <g clip-path=\"url(#pf4307c04a2)\">\n     <use style=\"fill:#1f77b4;\" x=\"99.427668\" xlink:href=\"#C0_0_2c88b05af3\" y=\"198.004438\"/>\n    </g>\n    <g clip-path=\"url(#pf4307c04a2)\">\n     <use style=\"fill:#1f77b4;\" x=\"78.427668\" xlink:href=\"#C0_0_2c88b05af3\" y=\"198.004438\"/>\n    </g>\n    <g clip-path=\"url(#pf4307c04a2)\">\n     <use style=\"fill:#1f77b4;\" x=\"104.677668\" xlink:href=\"#C0_0_2c88b05af3\" y=\"198.004438\"/>\n    </g>\n    <g clip-path=\"url(#pf4307c04a2)\">\n     <use style=\"fill:#1f77b4;\" x=\"73.177668\" xlink:href=\"#C0_0_2c88b05af3\" y=\"198.004438\"/>\n    </g>\n    <g clip-path=\"url(#pf4307c04a2)\">\n     <use style=\"fill:#1f77b4;\" x=\"109.927668\" xlink:href=\"#C0_0_2c88b05af3\" y=\"198.004438\"/>\n    </g>\n    <g clip-path=\"url(#pf4307c04a2)\">\n     <use style=\"fill:#1f77b4;\" x=\"67.927668\" xlink:href=\"#C0_0_2c88b05af3\" y=\"198.004438\"/>\n    </g>\n    <g clip-path=\"url(#pf4307c04a2)\">\n     <use style=\"fill:#1f77b4;\" x=\"115.177668\" xlink:href=\"#C0_0_2c88b05af3\" y=\"198.004438\"/>\n    </g>\n    <g clip-path=\"url(#pf4307c04a2)\">\n     <use style=\"fill:#1f77b4;\" x=\"62.677668\" xlink:href=\"#C0_0_2c88b05af3\" y=\"198.004438\"/>\n    </g>\n    <g clip-path=\"url(#pf4307c04a2)\">\n     <use style=\"fill:#1f77b4;\" x=\"120.427668\" xlink:href=\"#C0_0_2c88b05af3\" y=\"198.004438\"/>\n    </g>\n    <g clip-path=\"url(#pf4307c04a2)\">\n     <use style=\"fill:#1f77b4;\" x=\"57.427668\" xlink:href=\"#C0_0_2c88b05af3\" y=\"198.004438\"/>\n    </g>\n    <g clip-path=\"url(#pf4307c04a2)\">\n     <use style=\"fill:#1f77b4;\" x=\"90.31875\" xlink:href=\"#C0_0_2c88b05af3\" y=\"194.654052\"/>\n    </g>\n    <g clip-path=\"url(#pf4307c04a2)\">\n     <use style=\"fill:#1f77b4;\" x=\"95.56875\" xlink:href=\"#C0_0_2c88b05af3\" y=\"194.654052\"/>\n    </g>\n    <g clip-path=\"url(#pf4307c04a2)\">\n     <use style=\"fill:#1f77b4;\" x=\"85.06875\" xlink:href=\"#C0_0_2c88b05af3\" y=\"194.654052\"/>\n    </g>\n    <g clip-path=\"url(#pf4307c04a2)\">\n     <use style=\"fill:#1f77b4;\" x=\"100.81875\" xlink:href=\"#C0_0_2c88b05af3\" y=\"194.654052\"/>\n    </g>\n    <g clip-path=\"url(#pf4307c04a2)\">\n     <use style=\"fill:#1f77b4;\" x=\"79.81875\" xlink:href=\"#C0_0_2c88b05af3\" y=\"194.654052\"/>\n    </g>\n    <g clip-path=\"url(#pf4307c04a2)\">\n     <use style=\"fill:#1f77b4;\" x=\"106.06875\" xlink:href=\"#C0_0_2c88b05af3\" y=\"194.654052\"/>\n    </g>\n    <g clip-path=\"url(#pf4307c04a2)\">\n     <use style=\"fill:#1f77b4;\" x=\"74.56875\" xlink:href=\"#C0_0_2c88b05af3\" y=\"194.654052\"/>\n    </g>\n    <g clip-path=\"url(#pf4307c04a2)\">\n     <use style=\"fill:#1f77b4;\" x=\"88.927668\" xlink:href=\"#C0_0_2c88b05af3\" y=\"191.303667\"/>\n    </g>\n    <g clip-path=\"url(#pf4307c04a2)\">\n     <use style=\"fill:#1f77b4;\" x=\"94.177668\" xlink:href=\"#C0_0_2c88b05af3\" y=\"191.303667\"/>\n    </g>\n    <g clip-path=\"url(#pf4307c04a2)\">\n     <use style=\"fill:#1f77b4;\" x=\"83.677668\" xlink:href=\"#C0_0_2c88b05af3\" y=\"191.303667\"/>\n    </g>\n    <g clip-path=\"url(#pf4307c04a2)\">\n     <use style=\"fill:#1f77b4;\" x=\"99.427668\" xlink:href=\"#C0_0_2c88b05af3\" y=\"191.303667\"/>\n    </g>\n    <g clip-path=\"url(#pf4307c04a2)\">\n     <use style=\"fill:#1f77b4;\" x=\"90.31875\" xlink:href=\"#C0_0_2c88b05af3\" y=\"184.602897\"/>\n    </g>\n    <g clip-path=\"url(#pf4307c04a2)\">\n     <use style=\"fill:#1f77b4;\" x=\"85.06875\" xlink:href=\"#C0_0_2c88b05af3\" y=\"184.602897\"/>\n    </g>\n   </g>\n   <g id=\"PathCollection_2\">\n    <defs>\n     <path d=\"M 0 2.5 \nC 0.663008 2.5 1.29895 2.236584 1.767767 1.767767 \nC 2.236584 1.29895 2.5 0.663008 2.5 -0 \nC 2.5 -0.663008 2.236584 -1.29895 1.767767 -1.767767 \nC 1.29895 -2.236584 0.663008 -2.5 0 -2.5 \nC -0.663008 -2.5 -1.29895 -2.236584 -1.767767 -1.767767 \nC -2.236584 -1.29895 -2.5 -0.663008 -2.5 0 \nC -2.5 0.663008 -2.236584 1.29895 -1.767767 1.767767 \nC -1.29895 2.236584 -0.663008 2.5 0 2.5 \nz\n\" id=\"C1_0_3cf1b78585\"/>\n    </defs>\n    <g clip-path=\"url(#pf4307c04a2)\">\n     <use style=\"fill:#ff7f0e;\" x=\"201.91875\" xlink:href=\"#C1_0_3cf1b78585\" y=\"147.748659\"/>\n    </g>\n    <g clip-path=\"url(#pf4307c04a2)\">\n     <use style=\"fill:#ff7f0e;\" x=\"201.91875\" xlink:href=\"#C1_0_3cf1b78585\" y=\"137.697504\"/>\n    </g>\n    <g clip-path=\"url(#pf4307c04a2)\">\n     <use style=\"fill:#ff7f0e;\" x=\"196.66875\" xlink:href=\"#C1_0_3cf1b78585\" y=\"137.697504\"/>\n    </g>\n    <g clip-path=\"url(#pf4307c04a2)\">\n     <use style=\"fill:#ff7f0e;\" x=\"201.91875\" xlink:href=\"#C1_0_3cf1b78585\" y=\"130.996733\"/>\n    </g>\n    <g clip-path=\"url(#pf4307c04a2)\">\n     <use style=\"fill:#ff7f0e;\" x=\"196.66875\" xlink:href=\"#C1_0_3cf1b78585\" y=\"130.996733\"/>\n    </g>\n    <g clip-path=\"url(#pf4307c04a2)\">\n     <use style=\"fill:#ff7f0e;\" x=\"200.527668\" xlink:href=\"#C1_0_3cf1b78585\" y=\"127.646348\"/>\n    </g>\n    <g clip-path=\"url(#pf4307c04a2)\">\n     <use style=\"fill:#ff7f0e;\" x=\"201.91875\" xlink:href=\"#C1_0_3cf1b78585\" y=\"124.295963\"/>\n    </g>\n    <g clip-path=\"url(#pf4307c04a2)\">\n     <use style=\"fill:#ff7f0e;\" x=\"200.527668\" xlink:href=\"#C1_0_3cf1b78585\" y=\"120.945578\"/>\n    </g>\n    <g clip-path=\"url(#pf4307c04a2)\">\n     <use style=\"fill:#ff7f0e;\" x=\"201.91875\" xlink:href=\"#C1_0_3cf1b78585\" y=\"117.595193\"/>\n    </g>\n    <g clip-path=\"url(#pf4307c04a2)\">\n     <use style=\"fill:#ff7f0e;\" x=\"207.16875\" xlink:href=\"#C1_0_3cf1b78585\" y=\"117.595193\"/>\n    </g>\n    <g clip-path=\"url(#pf4307c04a2)\">\n     <use style=\"fill:#ff7f0e;\" x=\"196.66875\" xlink:href=\"#C1_0_3cf1b78585\" y=\"117.595193\"/>\n    </g>\n    <g clip-path=\"url(#pf4307c04a2)\">\n     <use style=\"fill:#ff7f0e;\" x=\"200.527668\" xlink:href=\"#C1_0_3cf1b78585\" y=\"114.244807\"/>\n    </g>\n    <g clip-path=\"url(#pf4307c04a2)\">\n     <use style=\"fill:#ff7f0e;\" x=\"205.777668\" xlink:href=\"#C1_0_3cf1b78585\" y=\"114.244807\"/>\n    </g>\n    <g clip-path=\"url(#pf4307c04a2)\">\n     <use style=\"fill:#ff7f0e;\" x=\"195.277668\" xlink:href=\"#C1_0_3cf1b78585\" y=\"114.244807\"/>\n    </g>\n    <g clip-path=\"url(#pf4307c04a2)\">\n     <use style=\"fill:#ff7f0e;\" x=\"211.027668\" xlink:href=\"#C1_0_3cf1b78585\" y=\"114.244807\"/>\n    </g>\n    <g clip-path=\"url(#pf4307c04a2)\">\n     <use style=\"fill:#ff7f0e;\" x=\"190.027668\" xlink:href=\"#C1_0_3cf1b78585\" y=\"114.244807\"/>\n    </g>\n    <g clip-path=\"url(#pf4307c04a2)\">\n     <use style=\"fill:#ff7f0e;\" x=\"201.91875\" xlink:href=\"#C1_0_3cf1b78585\" y=\"110.894422\"/>\n    </g>\n    <g clip-path=\"url(#pf4307c04a2)\">\n     <use style=\"fill:#ff7f0e;\" x=\"207.16875\" xlink:href=\"#C1_0_3cf1b78585\" y=\"110.894422\"/>\n    </g>\n    <g clip-path=\"url(#pf4307c04a2)\">\n     <use style=\"fill:#ff7f0e;\" x=\"196.66875\" xlink:href=\"#C1_0_3cf1b78585\" y=\"110.894422\"/>\n    </g>\n    <g clip-path=\"url(#pf4307c04a2)\">\n     <use style=\"fill:#ff7f0e;\" x=\"200.527668\" xlink:href=\"#C1_0_3cf1b78585\" y=\"107.544037\"/>\n    </g>\n    <g clip-path=\"url(#pf4307c04a2)\">\n     <use style=\"fill:#ff7f0e;\" x=\"205.777668\" xlink:href=\"#C1_0_3cf1b78585\" y=\"107.544037\"/>\n    </g>\n    <g clip-path=\"url(#pf4307c04a2)\">\n     <use style=\"fill:#ff7f0e;\" x=\"195.277668\" xlink:href=\"#C1_0_3cf1b78585\" y=\"107.544037\"/>\n    </g>\n    <g clip-path=\"url(#pf4307c04a2)\">\n     <use style=\"fill:#ff7f0e;\" x=\"211.027668\" xlink:href=\"#C1_0_3cf1b78585\" y=\"107.544037\"/>\n    </g>\n    <g clip-path=\"url(#pf4307c04a2)\">\n     <use style=\"fill:#ff7f0e;\" x=\"201.91875\" xlink:href=\"#C1_0_3cf1b78585\" y=\"104.193652\"/>\n    </g>\n    <g clip-path=\"url(#pf4307c04a2)\">\n     <use style=\"fill:#ff7f0e;\" x=\"196.66875\" xlink:href=\"#C1_0_3cf1b78585\" y=\"104.193652\"/>\n    </g>\n    <g clip-path=\"url(#pf4307c04a2)\">\n     <use style=\"fill:#ff7f0e;\" x=\"200.527668\" xlink:href=\"#C1_0_3cf1b78585\" y=\"100.843267\"/>\n    </g>\n    <g clip-path=\"url(#pf4307c04a2)\">\n     <use style=\"fill:#ff7f0e;\" x=\"205.777668\" xlink:href=\"#C1_0_3cf1b78585\" y=\"100.843267\"/>\n    </g>\n    <g clip-path=\"url(#pf4307c04a2)\">\n     <use style=\"fill:#ff7f0e;\" x=\"195.277668\" xlink:href=\"#C1_0_3cf1b78585\" y=\"100.843267\"/>\n    </g>\n    <g clip-path=\"url(#pf4307c04a2)\">\n     <use style=\"fill:#ff7f0e;\" x=\"211.027668\" xlink:href=\"#C1_0_3cf1b78585\" y=\"100.843267\"/>\n    </g>\n    <g clip-path=\"url(#pf4307c04a2)\">\n     <use style=\"fill:#ff7f0e;\" x=\"201.91875\" xlink:href=\"#C1_0_3cf1b78585\" y=\"97.492881\"/>\n    </g>\n    <g clip-path=\"url(#pf4307c04a2)\">\n     <use style=\"fill:#ff7f0e;\" x=\"196.66875\" xlink:href=\"#C1_0_3cf1b78585\" y=\"97.492881\"/>\n    </g>\n    <g clip-path=\"url(#pf4307c04a2)\">\n     <use style=\"fill:#ff7f0e;\" x=\"207.16875\" xlink:href=\"#C1_0_3cf1b78585\" y=\"97.492881\"/>\n    </g>\n    <g clip-path=\"url(#pf4307c04a2)\">\n     <use style=\"fill:#ff7f0e;\" x=\"191.41875\" xlink:href=\"#C1_0_3cf1b78585\" y=\"97.492881\"/>\n    </g>\n    <g clip-path=\"url(#pf4307c04a2)\">\n     <use style=\"fill:#ff7f0e;\" x=\"212.41875\" xlink:href=\"#C1_0_3cf1b78585\" y=\"97.492881\"/>\n    </g>\n    <g clip-path=\"url(#pf4307c04a2)\">\n     <use style=\"fill:#ff7f0e;\" x=\"186.16875\" xlink:href=\"#C1_0_3cf1b78585\" y=\"97.492881\"/>\n    </g>\n    <g clip-path=\"url(#pf4307c04a2)\">\n     <use style=\"fill:#ff7f0e;\" x=\"217.66875\" xlink:href=\"#C1_0_3cf1b78585\" y=\"97.492881\"/>\n    </g>\n    <g clip-path=\"url(#pf4307c04a2)\">\n     <use style=\"fill:#ff7f0e;\" x=\"200.527668\" xlink:href=\"#C1_0_3cf1b78585\" y=\"94.142496\"/>\n    </g>\n    <g clip-path=\"url(#pf4307c04a2)\">\n     <use style=\"fill:#ff7f0e;\" x=\"205.777668\" xlink:href=\"#C1_0_3cf1b78585\" y=\"94.142496\"/>\n    </g>\n    <g clip-path=\"url(#pf4307c04a2)\">\n     <use style=\"fill:#ff7f0e;\" x=\"195.277668\" xlink:href=\"#C1_0_3cf1b78585\" y=\"94.142496\"/>\n    </g>\n    <g clip-path=\"url(#pf4307c04a2)\">\n     <use style=\"fill:#ff7f0e;\" x=\"201.91875\" xlink:href=\"#C1_0_3cf1b78585\" y=\"90.792111\"/>\n    </g>\n    <g clip-path=\"url(#pf4307c04a2)\">\n     <use style=\"fill:#ff7f0e;\" x=\"196.66875\" xlink:href=\"#C1_0_3cf1b78585\" y=\"90.792111\"/>\n    </g>\n    <g clip-path=\"url(#pf4307c04a2)\">\n     <use style=\"fill:#ff7f0e;\" x=\"207.16875\" xlink:href=\"#C1_0_3cf1b78585\" y=\"90.792111\"/>\n    </g>\n    <g clip-path=\"url(#pf4307c04a2)\">\n     <use style=\"fill:#ff7f0e;\" x=\"191.41875\" xlink:href=\"#C1_0_3cf1b78585\" y=\"90.792111\"/>\n    </g>\n    <g clip-path=\"url(#pf4307c04a2)\">\n     <use style=\"fill:#ff7f0e;\" x=\"212.41875\" xlink:href=\"#C1_0_3cf1b78585\" y=\"90.792111\"/>\n    </g>\n    <g clip-path=\"url(#pf4307c04a2)\">\n     <use style=\"fill:#ff7f0e;\" x=\"200.527668\" xlink:href=\"#C1_0_3cf1b78585\" y=\"87.441726\"/>\n    </g>\n    <g clip-path=\"url(#pf4307c04a2)\">\n     <use style=\"fill:#ff7f0e;\" x=\"205.777668\" xlink:href=\"#C1_0_3cf1b78585\" y=\"87.441726\"/>\n    </g>\n    <g clip-path=\"url(#pf4307c04a2)\">\n     <use style=\"fill:#ff7f0e;\" x=\"201.91875\" xlink:href=\"#C1_0_3cf1b78585\" y=\"84.091341\"/>\n    </g>\n    <g clip-path=\"url(#pf4307c04a2)\">\n     <use style=\"fill:#ff7f0e;\" x=\"207.16875\" xlink:href=\"#C1_0_3cf1b78585\" y=\"84.091341\"/>\n    </g>\n    <g clip-path=\"url(#pf4307c04a2)\">\n     <use style=\"fill:#ff7f0e;\" x=\"200.527668\" xlink:href=\"#C1_0_3cf1b78585\" y=\"80.740955\"/>\n    </g>\n    <g clip-path=\"url(#pf4307c04a2)\">\n     <use style=\"fill:#ff7f0e;\" x=\"201.91875\" xlink:href=\"#C1_0_3cf1b78585\" y=\"77.39057\"/>\n    </g>\n   </g>\n   <g id=\"PathCollection_3\">\n    <defs>\n     <path d=\"M 0 2.5 \nC 0.663008 2.5 1.29895 2.236584 1.767767 1.767767 \nC 2.236584 1.29895 2.5 0.663008 2.5 -0 \nC 2.5 -0.663008 2.236584 -1.29895 1.767767 -1.767767 \nC 1.29895 -2.236584 0.663008 -2.5 0 -2.5 \nC -0.663008 -2.5 -1.29895 -2.236584 -1.767767 -1.767767 \nC -2.236584 -1.29895 -2.5 -0.663008 -2.5 0 \nC -2.5 0.663008 -2.236584 1.29895 -1.767767 1.767767 \nC -1.29895 2.236584 -0.663008 2.5 0 2.5 \nz\n\" id=\"C2_0_0e827b4641\"/>\n    </defs>\n    <g clip-path=\"url(#pf4307c04a2)\">\n     <use style=\"fill:#2ca02c;\" x=\"313.51875\" xlink:href=\"#C2_0_0e827b4641\" y=\"97.492881\"/>\n    </g>\n    <g clip-path=\"url(#pf4307c04a2)\">\n     <use style=\"fill:#2ca02c;\" x=\"313.51875\" xlink:href=\"#C2_0_0e827b4641\" y=\"87.441726\"/>\n    </g>\n    <g clip-path=\"url(#pf4307c04a2)\">\n     <use style=\"fill:#2ca02c;\" x=\"308.26875\" xlink:href=\"#C2_0_0e827b4641\" y=\"87.441726\"/>\n    </g>\n    <g clip-path=\"url(#pf4307c04a2)\">\n     <use style=\"fill:#2ca02c;\" x=\"312.127668\" xlink:href=\"#C2_0_0e827b4641\" y=\"84.091341\"/>\n    </g>\n    <g clip-path=\"url(#pf4307c04a2)\">\n     <use style=\"fill:#2ca02c;\" x=\"317.377668\" xlink:href=\"#C2_0_0e827b4641\" y=\"84.091341\"/>\n    </g>\n    <g clip-path=\"url(#pf4307c04a2)\">\n     <use style=\"fill:#2ca02c;\" x=\"306.877668\" xlink:href=\"#C2_0_0e827b4641\" y=\"84.091341\"/>\n    </g>\n    <g clip-path=\"url(#pf4307c04a2)\">\n     <use style=\"fill:#2ca02c;\" x=\"313.51875\" xlink:href=\"#C2_0_0e827b4641\" y=\"80.740955\"/>\n    </g>\n    <g clip-path=\"url(#pf4307c04a2)\">\n     <use style=\"fill:#2ca02c;\" x=\"308.26875\" xlink:href=\"#C2_0_0e827b4641\" y=\"80.740955\"/>\n    </g>\n    <g clip-path=\"url(#pf4307c04a2)\">\n     <use style=\"fill:#2ca02c;\" x=\"318.76875\" xlink:href=\"#C2_0_0e827b4641\" y=\"80.740955\"/>\n    </g>\n    <g clip-path=\"url(#pf4307c04a2)\">\n     <use style=\"fill:#2ca02c;\" x=\"312.127668\" xlink:href=\"#C2_0_0e827b4641\" y=\"77.39057\"/>\n    </g>\n    <g clip-path=\"url(#pf4307c04a2)\">\n     <use style=\"fill:#2ca02c;\" x=\"317.377668\" xlink:href=\"#C2_0_0e827b4641\" y=\"77.39057\"/>\n    </g>\n    <g clip-path=\"url(#pf4307c04a2)\">\n     <use style=\"fill:#2ca02c;\" x=\"306.877668\" xlink:href=\"#C2_0_0e827b4641\" y=\"77.39057\"/>\n    </g>\n    <g clip-path=\"url(#pf4307c04a2)\">\n     <use style=\"fill:#2ca02c;\" x=\"322.627668\" xlink:href=\"#C2_0_0e827b4641\" y=\"77.39057\"/>\n    </g>\n    <g clip-path=\"url(#pf4307c04a2)\">\n     <use style=\"fill:#2ca02c;\" x=\"301.627668\" xlink:href=\"#C2_0_0e827b4641\" y=\"77.39057\"/>\n    </g>\n    <g clip-path=\"url(#pf4307c04a2)\">\n     <use style=\"fill:#2ca02c;\" x=\"327.877668\" xlink:href=\"#C2_0_0e827b4641\" y=\"77.39057\"/>\n    </g>\n    <g clip-path=\"url(#pf4307c04a2)\">\n     <use style=\"fill:#2ca02c;\" x=\"296.377668\" xlink:href=\"#C2_0_0e827b4641\" y=\"77.39057\"/>\n    </g>\n    <g clip-path=\"url(#pf4307c04a2)\">\n     <use style=\"fill:#2ca02c;\" x=\"313.51875\" xlink:href=\"#C2_0_0e827b4641\" y=\"74.040185\"/>\n    </g>\n    <g clip-path=\"url(#pf4307c04a2)\">\n     <use style=\"fill:#2ca02c;\" x=\"318.76875\" xlink:href=\"#C2_0_0e827b4641\" y=\"74.040185\"/>\n    </g>\n    <g clip-path=\"url(#pf4307c04a2)\">\n     <use style=\"fill:#2ca02c;\" x=\"312.127668\" xlink:href=\"#C2_0_0e827b4641\" y=\"70.6898\"/>\n    </g>\n    <g clip-path=\"url(#pf4307c04a2)\">\n     <use style=\"fill:#2ca02c;\" x=\"317.377668\" xlink:href=\"#C2_0_0e827b4641\" y=\"70.6898\"/>\n    </g>\n    <g clip-path=\"url(#pf4307c04a2)\">\n     <use style=\"fill:#2ca02c;\" x=\"313.51875\" xlink:href=\"#C2_0_0e827b4641\" y=\"67.339414\"/>\n    </g>\n    <g clip-path=\"url(#pf4307c04a2)\">\n     <use style=\"fill:#2ca02c;\" x=\"318.76875\" xlink:href=\"#C2_0_0e827b4641\" y=\"67.339414\"/>\n    </g>\n    <g clip-path=\"url(#pf4307c04a2)\">\n     <use style=\"fill:#2ca02c;\" x=\"312.127668\" xlink:href=\"#C2_0_0e827b4641\" y=\"63.989029\"/>\n    </g>\n    <g clip-path=\"url(#pf4307c04a2)\">\n     <use style=\"fill:#2ca02c;\" x=\"317.377668\" xlink:href=\"#C2_0_0e827b4641\" y=\"63.989029\"/>\n    </g>\n    <g clip-path=\"url(#pf4307c04a2)\">\n     <use style=\"fill:#2ca02c;\" x=\"306.877668\" xlink:href=\"#C2_0_0e827b4641\" y=\"63.989029\"/>\n    </g>\n    <g clip-path=\"url(#pf4307c04a2)\">\n     <use style=\"fill:#2ca02c;\" x=\"313.51875\" xlink:href=\"#C2_0_0e827b4641\" y=\"60.638644\"/>\n    </g>\n    <g clip-path=\"url(#pf4307c04a2)\">\n     <use style=\"fill:#2ca02c;\" x=\"318.76875\" xlink:href=\"#C2_0_0e827b4641\" y=\"60.638644\"/>\n    </g>\n    <g clip-path=\"url(#pf4307c04a2)\">\n     <use style=\"fill:#2ca02c;\" x=\"308.26875\" xlink:href=\"#C2_0_0e827b4641\" y=\"60.638644\"/>\n    </g>\n    <g clip-path=\"url(#pf4307c04a2)\">\n     <use style=\"fill:#2ca02c;\" x=\"324.01875\" xlink:href=\"#C2_0_0e827b4641\" y=\"60.638644\"/>\n    </g>\n    <g clip-path=\"url(#pf4307c04a2)\">\n     <use style=\"fill:#2ca02c;\" x=\"303.01875\" xlink:href=\"#C2_0_0e827b4641\" y=\"60.638644\"/>\n    </g>\n    <g clip-path=\"url(#pf4307c04a2)\">\n     <use style=\"fill:#2ca02c;\" x=\"329.26875\" xlink:href=\"#C2_0_0e827b4641\" y=\"60.638644\"/>\n    </g>\n    <g clip-path=\"url(#pf4307c04a2)\">\n     <use style=\"fill:#2ca02c;\" x=\"312.127668\" xlink:href=\"#C2_0_0e827b4641\" y=\"57.288259\"/>\n    </g>\n    <g clip-path=\"url(#pf4307c04a2)\">\n     <use style=\"fill:#2ca02c;\" x=\"317.377668\" xlink:href=\"#C2_0_0e827b4641\" y=\"57.288259\"/>\n    </g>\n    <g clip-path=\"url(#pf4307c04a2)\">\n     <use style=\"fill:#2ca02c;\" x=\"306.877668\" xlink:href=\"#C2_0_0e827b4641\" y=\"57.288259\"/>\n    </g>\n    <g clip-path=\"url(#pf4307c04a2)\">\n     <use style=\"fill:#2ca02c;\" x=\"313.51875\" xlink:href=\"#C2_0_0e827b4641\" y=\"53.937874\"/>\n    </g>\n    <g clip-path=\"url(#pf4307c04a2)\">\n     <use style=\"fill:#2ca02c;\" x=\"308.26875\" xlink:href=\"#C2_0_0e827b4641\" y=\"53.937874\"/>\n    </g>\n    <g clip-path=\"url(#pf4307c04a2)\">\n     <use style=\"fill:#2ca02c;\" x=\"318.76875\" xlink:href=\"#C2_0_0e827b4641\" y=\"53.937874\"/>\n    </g>\n    <g clip-path=\"url(#pf4307c04a2)\">\n     <use style=\"fill:#2ca02c;\" x=\"312.127668\" xlink:href=\"#C2_0_0e827b4641\" y=\"50.587488\"/>\n    </g>\n    <g clip-path=\"url(#pf4307c04a2)\">\n     <use style=\"fill:#2ca02c;\" x=\"317.377668\" xlink:href=\"#C2_0_0e827b4641\" y=\"50.587488\"/>\n    </g>\n    <g clip-path=\"url(#pf4307c04a2)\">\n     <use style=\"fill:#2ca02c;\" x=\"313.51875\" xlink:href=\"#C2_0_0e827b4641\" y=\"47.237103\"/>\n    </g>\n    <g clip-path=\"url(#pf4307c04a2)\">\n     <use style=\"fill:#2ca02c;\" x=\"318.76875\" xlink:href=\"#C2_0_0e827b4641\" y=\"47.237103\"/>\n    </g>\n    <g clip-path=\"url(#pf4307c04a2)\">\n     <use style=\"fill:#2ca02c;\" x=\"312.127668\" xlink:href=\"#C2_0_0e827b4641\" y=\"43.886718\"/>\n    </g>\n    <g clip-path=\"url(#pf4307c04a2)\">\n     <use style=\"fill:#2ca02c;\" x=\"317.377668\" xlink:href=\"#C2_0_0e827b4641\" y=\"43.886718\"/>\n    </g>\n    <g clip-path=\"url(#pf4307c04a2)\">\n     <use style=\"fill:#2ca02c;\" x=\"306.877668\" xlink:href=\"#C2_0_0e827b4641\" y=\"43.886718\"/>\n    </g>\n    <g clip-path=\"url(#pf4307c04a2)\">\n     <use style=\"fill:#2ca02c;\" x=\"313.51875\" xlink:href=\"#C2_0_0e827b4641\" y=\"37.185948\"/>\n    </g>\n    <g clip-path=\"url(#pf4307c04a2)\">\n     <use style=\"fill:#2ca02c;\" x=\"312.127668\" xlink:href=\"#C2_0_0e827b4641\" y=\"33.835562\"/>\n    </g>\n    <g clip-path=\"url(#pf4307c04a2)\">\n     <use style=\"fill:#2ca02c;\" x=\"313.51875\" xlink:href=\"#C2_0_0e827b4641\" y=\"27.134792\"/>\n    </g>\n    <g clip-path=\"url(#pf4307c04a2)\">\n     <use style=\"fill:#2ca02c;\" x=\"312.127668\" xlink:href=\"#C2_0_0e827b4641\" y=\"23.784407\"/>\n    </g>\n    <g clip-path=\"url(#pf4307c04a2)\">\n     <use style=\"fill:#2ca02c;\" x=\"317.377668\" xlink:href=\"#C2_0_0e827b4641\" y=\"23.784407\"/>\n    </g>\n    <g clip-path=\"url(#pf4307c04a2)\">\n     <use style=\"fill:#2ca02c;\" x=\"313.51875\" xlink:href=\"#C2_0_0e827b4641\" y=\"17.083636\"/>\n    </g>\n   </g>\n  </g>\n </g>\n <defs>\n  <clipPath id=\"pf4307c04a2\">\n   <rect height=\"217.44\" width=\"334.8\" x=\"34.51875\" y=\"7.2\"/>\n  </clipPath>\n </defs>\n</svg>\n",
      "image/png": "[encoded data removed]"
     },
     "metadata": {
      "needs_background": "light"
     }
    }
   ],
   "source": [
    "sns.swarmplot(x='species', y='petal_length', data=iris_df)"
   ]
  },
  {
   "cell_type": "code",
   "execution_count": null,
   "metadata": {
    "tags": []
   },
   "outputs": [],
   "source": [
    "sns.pairplot(iris_df, hue='species')"
   ]
  },
  {
   "cell_type": "code",
   "execution_count": null,
   "metadata": {
    "tags": []
   },
   "outputs": [],
   "source": [
    "from sklearn import tree\n",
    "import mlflow\n",
    "import mlflow.sklearn\n",
    "import shutil\n",
    "\n",
    "model_name = 'iris'\n",
    "\n",
    "mlflow.set_tracking_uri('databricks')\n",
    "mlflow.set_experiment('/Experiments/iris')\n",
    "\n",
    "with mlflow.start_run() as run:\n",
    "  iris_data = iris_df.loc[:, ['sepal_length', 'sepal_width', 'petal_length', 'petal_width']]\n",
    "  iris_target = iris_df.loc[:, ['species']]\n",
    "\n",
    "  sk_model = tree.DecisionTreeClassifier()\n",
    "  sk_model = sk_model.fit(iris_data, iris_target)\n",
    "  \n",
    "  mlflow.log_param('criterion', sk_model.criterion)\n",
    "  mlflow.log_param('splitter', sk_model.splitter)\n",
    "  \n",
    "  # log model\n",
    "  mlflow.sklearn.log_model(iris_df, registered_model_name=model_name, artifact_path='model')\n",
    "  mlflow.sklearn.save_model(sk_model, run.info.run_id, serialization_format=mlflow.sklearn.SERIALIZATION_FORMAT_CLOUDPICKLE)\n",
    "\n",
    "  # compare output\n",
    "  runs_df = mlflow.search_runs(run.info.experiment_id)\n",
    "\n",
    "  shutil.rmtree(run.info.run_id, ignore_errors=True)\n",
    "  shutil.rmtree('mlruns', ignore_errors=True)"
   ]
  },
  {
   "cell_type": "code",
   "execution_count": null,
   "metadata": {
    "tags": []
   },
   "outputs": [],
   "source": [
    "runs_df"
   ]
  }
 ]
}